{
 "cells": [
  {
   "cell_type": "markdown",
   "id": "5f2e3f1f-104a-4866-8644-b57898b944e9",
   "metadata": {},
   "source": [
    "### Exemplo de processo que não alcança estado estável\n",
    "\n",
    "Exemplo de processo M/M/2, com $\\lambda = 1$ e $\\mu = 0,2$.\n",
    "\n",
    "Como $\\rho = \\frac{\\lambda}{s\\times \\mu} = \\frac{1}{0,4} >1$, é esperado que o processo não estabilize.\n",
    "\n",
    "A fila explodirá. \n",
    "\n",
    "Altere o código e calcule o tempo médio de espera dos clientes que finalizaram o serviço."
   ]
  },
  {
   "cell_type": "code",
   "execution_count": null,
   "id": "a20fac89-94eb-4f1f-83b1-f70d30d18640",
   "metadata": {},
   "outputs": [],
   "source": [
    "def estabelecimento (environment, nome_cliente, servidor):\n",
    "    print (f\"{nome_cliente} chega ao estabelecimento em {environment.now}\") \n",
    "    \n",
    "    with servidor.request() as req:\n",
    "        yield req\n",
    "        print (f\"{nome_cliente} inicia o serviço em {environment.now}\") \n",
    "        yield environment.timeout(random.expovariate(1/5)) \n",
    "        print (f\"{nome_cliente} finaliza o serviço e sai do estabelecimento em {environment.now}\")\n",
    "\n",
    "def chegadas (environment):\n",
    "    i=1 \n",
    "    while True:\n",
    "        yield environment.timeout(random.expovariate(1))\n",
    "        environment.process(estabelecimento (environment, 'Cliente %d' % i, servidor))\n",
    "        i+=1\n",
    "\n",
    "env3 = simpy.Environment()\n",
    "servidor = simpy.Resource(env3, capacity=2)\n",
    "env3.process(chegadas(env3))\n",
    "env3.run(until = 480)"
   ]
  }
 ],
 "metadata": {
  "language_info": {
   "name": "python"
  },
  "orig_nbformat": 4
 },
 "nbformat": 4,
 "nbformat_minor": 2
}
