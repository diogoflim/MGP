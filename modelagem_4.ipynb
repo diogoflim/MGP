{
 "cells": [
  {
   "cell_type": "markdown",
   "id": "e159502c-561c-4d4e-94bb-26565d45cf11",
   "metadata": {},
   "source": [
    "[![Open In Colab](https://colab.research.google.com/assets/colab-badge.svg)](https://colab.research.google.com/github/diogoflim/MGP/blob/main/modelagem_4.ipynb)"
   ]
  },
  {
   "cell_type": "markdown",
   "id": "67f7a0db-b2fe-4613-aba7-d4d950eb86f5",
   "metadata": {},
   "source": [
    "# Modelagem e Gestão de Processos\n",
    "\n",
    "\n",
    "**Prof. Diogo Ferreira de Lima Silva (TEP-UFF)**\n",
    "\n"
   ]
  },
  {
   "cell_type": "code",
   "execution_count": null,
   "metadata": {},
   "outputs": [],
   "source": [
    "import simpy\n",
    "import random\n",
    "import numpy as np"
   ]
  },
  {
   "cell_type": "code",
   "execution_count": null,
   "metadata": {},
   "outputs": [],
   "source": [
    "random.seed(2)"
   ]
  },
  {
   "cell_type": "markdown",
   "id": "5f2e3f1f-104a-4866-8644-b57898b944e9",
   "metadata": {},
   "source": [
    "### Exemplo de processo que não alcança estado estável\n",
    "\n",
    "Exemplo de processo M/M/2, com $\\lambda = 1$ cliente/minuto e $\\mu = 0,2$ clientes/minuto.\n",
    "\n",
    "Como $\\rho = \\frac{\\lambda}{s\\times \\mu} = \\frac{1}{0,4} >1$, é esperado que o processo não estabilize.\n",
    "\n",
    "A fila explodirá. \n",
    "\n",
    "Altere o código e calcule o tempo médio de espera dos clientes que finalizaram o serviço."
   ]
  },
  {
   "cell_type": "code",
   "execution_count": null,
   "id": "a20fac89-94eb-4f1f-83b1-f70d30d18640",
   "metadata": {},
   "outputs": [],
   "source": [
    "def estabelecimento (environment, nome_cliente, servidor):\n",
    "    #imprima na tela o tempo de chegada.\n",
    "    print (f\"{nome_cliente} chega ao estabelecimento em {environment.now}\") \n",
    "    \n",
    "    #guarde a informação na variável tempo_chegada.\n",
    "    tempo_chegada = environment.now \n",
    "    \n",
    "    # A atividade requer um servidor. Usamos o with para demonstrar isso. \n",
    "    with servidor.request() as req:\n",
    "        # Espere até o servidor estar disponível e guarde o tempo.\n",
    "        yield req \n",
    "        \n",
    "        # Escreva na tela o tempo de início do serviço\n",
    "        print (f\"{nome_cliente} inicia o serviço em {environment.now}\") \n",
    "        # guarde o tempo de início em uma variável chamada tempo_inicio\n",
    "        tempo_inicio = environment.now\n",
    "\n",
    "        # tempo de espera será o tempo_inicio - tempo_chegada \n",
    "        tempo_em_fila.append(tempo_inicio - tempo_chegada)\n",
    "\n",
    "        # O tempo estimado segue uma exponencial trabalha com Mu=0,2\n",
    "        yield environment.timeout(random.expovariate(0.2))  \n",
    "        \n",
    "        #Imprima na tela o tempo de saída do sistema\n",
    "        print (f\"{nome_cliente} finaliza o serviço e sai do estabelecimento em {environment.now}\")\n",
    "        tempo_saida = environment.now\n",
    "        \n",
    "        # O tempo no sistema será tempo_saida - tempo_chegada\n",
    "        tempo_no_sistema.append(tempo_saida - tempo_chegada) \n",
    "\n",
    "def chegadas (environment):\n",
    "    id = 1 #guarda o id do cliente \n",
    "    \n",
    "    # Enquanto houver simulação:\n",
    "    while True:\n",
    "        # Passa um tempo até a próxima chegada, seguindo exponencial com média (1/lambda)\n",
    "        yield environment.timeout(random.expovariate(1))\n",
    "        \n",
    "        # Um cliente chega no processo\n",
    "        environment.process(estabelecimento (environment, 'Cliente %d' % id, servidor))\n",
    "        \n",
    "        # O próximo cliente terá id = id + 1\n",
    "        id += 1\n",
    "\n"
   ]
  },
  {
   "cell_type": "code",
   "execution_count": null,
   "metadata": {},
   "outputs": [],
   "source": [
    "tempo_em_fila = [] # uma lista vazia que receberá os tempos em fila\n",
    "tempo_no_sistema = [] # uma lista vazia que receberá os tempos no sistema de filas\n",
    "\n",
    "ambiente = simpy.Environment()\n",
    "servidor = simpy.Resource(ambiente, capacity=2)\n",
    "ambiente.process(chegadas(ambiente))\n",
    "ambiente.run(until = 480)"
   ]
  },
  {
   "cell_type": "code",
   "execution_count": null,
   "metadata": {},
   "outputs": [],
   "source": [
    "print (f\"Número de clientes que iniciaram o atendimento : {len(tempo_em_fila)}\")\n",
    "print (f\"O tempo de espera médio: {np.mean(tempo_em_fila).round(2)} minutos\")\n",
    "print (f\"O tempo médio no sistema: {np.mean(tempo_no_sistema).round(2)} minutos\")"
   ]
  },
  {
   "cell_type": "markdown",
   "metadata": {},
   "source": [
    "Veja que o tempo de espera médio foi de mais de 2 horas.\n",
    "\n",
    "Na verdade, só contabilizamos tempos de espera que conseguiram iniciar o atendimento.\n",
    "\n",
    "Perceba que chegaram mais de 400 clientes e menos da metade deles foram atendidos. "
   ]
  }
 ],
 "metadata": {
  "kernelspec": {
   "display_name": "Python 3.9.7 ('base')",
   "language": "python",
   "name": "python3"
  },
  "language_info": {
   "codemirror_mode": {
    "name": "ipython",
    "version": 3
   },
   "file_extension": ".py",
   "mimetype": "text/x-python",
   "name": "python",
   "nbconvert_exporter": "python",
   "pygments_lexer": "ipython3",
   "version": "3.9.7"
  },
  "orig_nbformat": 4,
  "vscode": {
   "interpreter": {
    "hash": "e4cce46d6be9934fbd27f9ca0432556941ea5bdf741d4f4d64c6cd7f8dfa8fba"
   }
  }
 },
 "nbformat": 4,
 "nbformat_minor": 2
}
