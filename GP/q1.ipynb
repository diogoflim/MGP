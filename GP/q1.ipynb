{
 "cells": [
  {
   "attachments": {},
   "cell_type": "markdown",
   "metadata": {},
   "source": [
    "[![Open In Colab](https://colab.research.google.com/assets/colab-badge.svg)](https://colab.research.google.com/github/diogoflim/MGP/blob/main/GP/q1.ipynb)"
   ]
  },
  {
   "attachments": {},
   "cell_type": "markdown",
   "metadata": {},
   "source": [
    "# Um Problema de Mix de Produção"
   ]
  },
  {
   "attachments": {},
   "cell_type": "markdown",
   "metadata": {},
   "source": [
    "$$\\max z = 0,3x_1 + 0,25x_2 + 0,2x_3$$\n",
    "                                            sujeito a:\n",
    "$$0,22x_1 + 0,52x_2 + 0,74x_3 \\leq 9600000$$\n",
    "$$0,52x_1 + 0,34x_2 + 0,20x_3 \\leq 4800000$$\n",
    "$$0,28x_1 + 0,14x_2 + 0,06x_3 \\leq 2200000$$ \n",
    "$$x_3 \\geq 16x_1$$\n",
    "$$x_2 \\leq 600000$$\n",
    "$$x_i \\geq 0,   \\forall i \\in \\{1,2,3\\}$$\n",
    "  "
   ]
  },
  {
   "cell_type": "code",
   "execution_count": null,
   "metadata": {},
   "outputs": [],
   "source": [
    "#Execute esse bloco caso esteja executando no Google Colab\n",
    "!pip install -q pyomo\n",
    "!apt-get install -y -qq glpk-utils"
   ]
  },
  {
   "cell_type": "code",
   "execution_count": 1,
   "metadata": {},
   "outputs": [],
   "source": [
    "import pyomo.environ as pe"
   ]
  },
  {
   "attachments": {},
   "cell_type": "markdown",
   "metadata": {},
   "source": [
    "## Modelando diretamente"
   ]
  },
  {
   "cell_type": "code",
   "execution_count": 2,
   "metadata": {},
   "outputs": [
    {
     "name": "stdout",
     "output_type": "stream",
     "text": [
      "z= 2845522.3880597027\n",
      "x_1 = 770149.253731343\n",
      "x_2 = 600000.0\n",
      "x_3 = 12322388.0597015\n"
     ]
    }
   ],
   "source": [
    "M=pe.ConcreteModel()\n",
    "M.x = pe.Var([1,2,3], within=pe.NonNegativeReals)\n",
    "M.z = pe.Objective(rule = 0.3*M.x[1] + 0.25*M.x[2] + 0.2*M.x[3], sense=pe.maximize)\n",
    "M.R1 = pe.Constraint(rule = 0.22*M.x[1]+ 0.52 * M.x[2] + 0.74*M.x[3] <= 9600000)\n",
    "M.R2 = pe.Constraint(rule = 0.5*M.x[1]+ 0.34 * M.x[2] + 0.2*M.x[3] <= 4800000)\n",
    "M.R3 = pe.Constraint(rule = 0.28*M.x[1]+ 0.14 * M.x[2] + 0.06*M.x[3] <= 2200000)\n",
    "M.R4 = pe.Constraint(rule = M.x[3] >= 16*M.x[1])\n",
    "M.R5 = pe.Constraint(rule = M.x[2] <= 600000)\n",
    "pe.SolverFactory('glpk').solve(M)\n",
    "print(f\"z= {pe.value(M.z)}\")\n",
    "for k in M.x.keys(): \n",
    "    print (f\"x_{k} = {pe.value(M.x[k])}\")"
   ]
  },
  {
   "attachments": {},
   "cell_type": "markdown",
   "metadata": {},
   "source": [
    "## Modelando a partir dos dados\n",
    "\n",
    "As vezes pode ser importante inicializar os parâmetros no modelo. Assim, o modelo..."
   ]
  },
  {
   "cell_type": "code",
   "execution_count": 3,
   "metadata": {},
   "outputs": [],
   "source": [
    "import pandas as pd"
   ]
  },
  {
   "cell_type": "code",
   "execution_count": 4,
   "metadata": {},
   "outputs": [
    {
     "data": {
      "text/html": [
       "<div>\n",
       "<style scoped>\n",
       "    .dataframe tbody tr th:only-of-type {\n",
       "        vertical-align: middle;\n",
       "    }\n",
       "\n",
       "    .dataframe tbody tr th {\n",
       "        vertical-align: top;\n",
       "    }\n",
       "\n",
       "    .dataframe thead th {\n",
       "        text-align: right;\n",
       "    }\n",
       "</style>\n",
       "<table border=\"1\" class=\"dataframe\">\n",
       "  <thead>\n",
       "    <tr style=\"text-align: right;\">\n",
       "      <th></th>\n",
       "      <th>pura</th>\n",
       "      <th>octana</th>\n",
       "      <th>aditivo</th>\n",
       "    </tr>\n",
       "  </thead>\n",
       "  <tbody>\n",
       "    <tr>\n",
       "      <th>verde</th>\n",
       "      <td>0.22</td>\n",
       "      <td>0.50</td>\n",
       "      <td>0.28</td>\n",
       "    </tr>\n",
       "    <tr>\n",
       "      <th>azul</th>\n",
       "      <td>0.52</td>\n",
       "      <td>0.34</td>\n",
       "      <td>0.14</td>\n",
       "    </tr>\n",
       "    <tr>\n",
       "      <th>comum</th>\n",
       "      <td>0.74</td>\n",
       "      <td>0.20</td>\n",
       "      <td>0.06</td>\n",
       "    </tr>\n",
       "  </tbody>\n",
       "</table>\n",
       "</div>"
      ],
      "text/plain": [
       "       pura  octana  aditivo\n",
       "verde  0.22    0.50     0.28\n",
       "azul   0.52    0.34     0.14\n",
       "comum  0.74    0.20     0.06"
      ]
     },
     "execution_count": 4,
     "metadata": {},
     "output_type": "execute_result"
    }
   ],
   "source": [
    "dados = pd.DataFrame({'pura':[0.22, 0.52, 0.74],\n",
    "                      'octana':[0.5, 0.34, 0.2],\n",
    "                      'aditivo': [0.28, 0.14, 0.06]},\n",
    "                      index = ['verde', 'azul', 'comum'])\n",
    "dados\n"
   ]
  },
  {
   "cell_type": "code",
   "execution_count": 5,
   "metadata": {},
   "outputs": [
    {
     "name": "stdout",
     "output_type": "stream",
     "text": [
      "['verde', 'azul', 'comum']\n",
      "['pura', 'octana', 'aditivo']\n"
     ]
    }
   ],
   "source": [
    "print(list(dados.index))\n",
    "print(list(dados.columns))"
   ]
  },
  {
   "cell_type": "code",
   "execution_count": 7,
   "metadata": {},
   "outputs": [
    {
     "data": {
      "text/plain": [
       "{('verde', 'pura'): 0.22,\n",
       " ('verde', 'octana'): 0.5,\n",
       " ('verde', 'aditivo'): 0.28,\n",
       " ('azul', 'pura'): 0.52,\n",
       " ('azul', 'octana'): 0.34,\n",
       " ('azul', 'aditivo'): 0.14,\n",
       " ('comum', 'pura'): 0.74,\n",
       " ('comum', 'octana'): 0.2,\n",
       " ('comum', 'aditivo'): 0.06}"
      ]
     },
     "execution_count": 7,
     "metadata": {},
     "output_type": "execute_result"
    }
   ],
   "source": [
    "comp_dict = dados.stack().to_dict()\n",
    "comp_dict"
   ]
  },
  {
   "cell_type": "code",
   "execution_count": 8,
   "metadata": {},
   "outputs": [],
   "source": [
    "capacidades = {'pura':9600000, 'octana': 4800000, 'aditivo': 2200000}\n",
    "lucros = {'verde':0.3, 'azul': 0.25, 'comum': 0.2}"
   ]
  },
  {
   "cell_type": "code",
   "execution_count": 9,
   "metadata": {},
   "outputs": [],
   "source": [
    "M = pe.ConcreteModel()"
   ]
  },
  {
   "cell_type": "code",
   "execution_count": 10,
   "metadata": {},
   "outputs": [],
   "source": [
    "# Conjuntos\n",
    "M.tipos_prod = pe.Set(initialize = list(dados.index)) #tipos de produto que podem ser produzidos\n",
    "M.mp = pe.Set(initialize = list(dados.columns)) #matérias-primas para a produção\n"
   ]
  },
  {
   "cell_type": "code",
   "execution_count": 11,
   "metadata": {},
   "outputs": [],
   "source": [
    "#Parâmetros\n",
    "M.comp = pe.Param(M.tipos_prod, M.mp, initialize=comp_dict) #composição dos produtos\n",
    "M.capacidades = pe.Param(M.mp, initialize= capacidades) #capacidades\n",
    "M.lucros = pe.Param(M.tipos_prod, initialize= lucros) #lucros\n",
    "M.capacidade_azul = pe.Param(initialize = 600000)\n"
   ]
  },
  {
   "cell_type": "code",
   "execution_count": 12,
   "metadata": {},
   "outputs": [],
   "source": [
    "M.x = pe.Var(M.tipos_prod, within = pe.NonNegativeReals)"
   ]
  },
  {
   "cell_type": "code",
   "execution_count": 13,
   "metadata": {},
   "outputs": [],
   "source": [
    "def Lucro(M):\n",
    "    return sum(M.x[i] * M.lucros[i] for i in M.tipos_prod)\n",
    "\n",
    "M.z = pe.Objective(rule = Lucro, sense = pe.maximize)"
   ]
  },
  {
   "cell_type": "code",
   "execution_count": 14,
   "metadata": {},
   "outputs": [],
   "source": [
    "M.R_capacidades = pe.ConstraintList()\n",
    "\n",
    "for j in M.mp:\n",
    "    M.R_capacidades.add (expr = sum(M.x[i] * M.comp[i, j] for i in M.tipos_prod) <= M.capacidades[j])\n",
    "\n",
    "M.R2 = pe.Constraint(expr = M.x['comum'] >= 16 * M.x['verde'])\n",
    "\n",
    "M.R3 = pe.Constraint(expr = M.x['azul'] <= M.capacidade_azul)"
   ]
  },
  {
   "cell_type": "code",
   "execution_count": 15,
   "metadata": {},
   "outputs": [
    {
     "data": {
      "text/plain": [
       "{'Problem': [{'Name': 'unknown', 'Lower bound': 2845522.3880597, 'Upper bound': 2845522.3880597, 'Number of objectives': 1, 'Number of constraints': 6, 'Number of variables': 4, 'Number of nonzeros': 13, 'Sense': 'maximize'}], 'Solver': [{'Status': 'ok', 'Termination condition': 'optimal', 'Statistics': {'Branch and bound': {'Number of bounded subproblems': 0, 'Number of created subproblems': 0}}, 'Error rc': 0, 'Time': 0.047867536544799805}], 'Solution': [OrderedDict([('number of solutions', 0), ('number of solutions displayed', 0)])]}"
      ]
     },
     "execution_count": 15,
     "metadata": {},
     "output_type": "execute_result"
    }
   ],
   "source": [
    "pe.SolverFactory('glpk').solve(M)"
   ]
  },
  {
   "cell_type": "code",
   "execution_count": 16,
   "metadata": {},
   "outputs": [
    {
     "name": "stdout",
     "output_type": "stream",
     "text": [
      "z= 2845522.3880597027\n",
      "x_verde = 770149.253731343\n",
      "x_azul = 600000.0\n",
      "x_comum = 12322388.0597015\n"
     ]
    }
   ],
   "source": [
    "print(f\"z= {pe.value(M.z)}\")\n",
    "for k in M.x.keys(): \n",
    "    print (f\"x_{k} = {pe.value(M.x[k])}\")\n"
   ]
  }
 ],
 "metadata": {
  "kernelspec": {
   "display_name": "base",
   "language": "python",
   "name": "python3"
  },
  "language_info": {
   "codemirror_mode": {
    "name": "ipython",
    "version": 3
   },
   "file_extension": ".py",
   "mimetype": "text/x-python",
   "name": "python",
   "nbconvert_exporter": "python",
   "pygments_lexer": "ipython3",
   "version": "3.9.7"
  },
  "orig_nbformat": 4
 },
 "nbformat": 4,
 "nbformat_minor": 2
}
