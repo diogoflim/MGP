{
 "cells": [
  {
   "attachments": {},
   "cell_type": "markdown",
   "metadata": {},
   "source": [
    "[![Open In Colab](https://colab.research.google.com/assets/colab-badge.svg)](https://colab.research.google.com/github/diogoflim/MGP/blob/main/GP/PlanejamentoAgregado_pyomo.ipynb)"
   ]
  },
  {
   "attachments": {},
   "cell_type": "markdown",
   "metadata": {},
   "source": [
    "# Modelagem e Gestão de Processos\n",
    "\n",
    "TEP - UFF\n",
    "\n",
    "\n",
    "**Professor: Diogo Ferreira de Lima Silva**"
   ]
  },
  {
   "cell_type": "code",
   "execution_count": 142,
   "metadata": {},
   "outputs": [
    {
     "name": "stdout",
     "output_type": "stream",
     "text": [
      "^C\n"
     ]
    },
    {
     "name": "stderr",
     "output_type": "stream",
     "text": [
      "'apt-get' n�o � reconhecido como um comando interno\n",
      "ou externo, um programa oper�vel ou um arquivo em lotes.\n"
     ]
    }
   ],
   "source": [
    "#Execute esse bloco caso esteja executando no Google Colab\n",
    "!pip install -q pyomo\n",
    "!apt-get install -y -qq glpk-utils"
   ]
  },
  {
   "attachments": {},
   "cell_type": "markdown",
   "metadata": {},
   "source": [
    "## Um Problema de Planejamento Agregado"
   ]
  },
  {
   "cell_type": "markdown",
   "metadata": {},
   "source": [
    "Vamos relembrar o problema de planejamento agregado visto em sala. \n",
    "\n",
    "Um estudo de previsão de demanda realizado em uma fábrica resultou nos seguintes resultados para os próximos 4 meses: 52400, 45800, 65000 e 87600.\n",
    "\n",
    "A produção pode ser realizada de maneira regular, a partir de horas extras e/ou com o uso de subcontratação de terceiros, com custos unitários respectivamente de: R$ 480,00, R$600,00 e R$750,00. Além disso, o custo unitário de manter em estoque por um período é de R$225,00.\n",
    "\n",
    "As capacidades para cada período são ilustradas na tabela a seguir:\n",
    "\n",
    "| Período | Demandas | Capacidade Regular | Capacidade com Horas Extras | Capacidade com Subcontratações |\n",
    "|---------|----------|---------------------|-----------------------------|-------------------------------|\n",
    "| 1       | 52400    | 52400               | 8400                        | 4200                          |\n",
    "| 2       | 45800    | 42900               | 8400                        | 4200                          |\n",
    "| 3       | 65000    | 62300               | 8400                        | 4200                          |\n",
    "| 4       | 87600    | 62300               | 8400                        | 4200                          |\n",
    "\n",
    "\n",
    "Sabe-se que existe um estoque inicial de 5000 peças e deseja-se concluir o último período com 8000 peças em estoque. Qual o planejamento ideal para a produção das peças (quanto produzir em cada período com cada tipo de produção)? \n",
    "\n"
   ]
  },
  {
   "cell_type": "markdown",
   "metadata": {},
   "source": [
    "### Importando as bibliotecas"
   ]
  },
  {
   "cell_type": "code",
   "execution_count": 117,
   "metadata": {},
   "outputs": [],
   "source": [
    "import pyomo.environ as pe\n",
    "import pandas as pd"
   ]
  },
  {
   "attachments": {},
   "cell_type": "markdown",
   "metadata": {},
   "source": [
    "## Etapa 1: Coleta de Dados do Problema"
   ]
  },
  {
   "cell_type": "code",
   "execution_count": 123,
   "metadata": {},
   "outputs": [],
   "source": [
    "periodos = [1,2,3,4]\n",
    "decisoes = ['Regular', 'HoraExtra', 'Sub']"
   ]
  },
  {
   "cell_type": "code",
   "execution_count": 124,
   "metadata": {},
   "outputs": [
    {
     "data": {
      "text/html": [
       "<div>\n",
       "<style scoped>\n",
       "    .dataframe tbody tr th:only-of-type {\n",
       "        vertical-align: middle;\n",
       "    }\n",
       "\n",
       "    .dataframe tbody tr th {\n",
       "        vertical-align: top;\n",
       "    }\n",
       "\n",
       "    .dataframe thead th {\n",
       "        text-align: right;\n",
       "    }\n",
       "</style>\n",
       "<table border=\"1\" class=\"dataframe\">\n",
       "  <thead>\n",
       "    <tr style=\"text-align: right;\">\n",
       "      <th></th>\n",
       "      <th>Regular</th>\n",
       "      <th>HoraExtra</th>\n",
       "      <th>Sub</th>\n",
       "    </tr>\n",
       "  </thead>\n",
       "  <tbody>\n",
       "    <tr>\n",
       "      <th>1</th>\n",
       "      <td>52400</td>\n",
       "      <td>8400</td>\n",
       "      <td>4200</td>\n",
       "    </tr>\n",
       "    <tr>\n",
       "      <th>2</th>\n",
       "      <td>42900</td>\n",
       "      <td>8400</td>\n",
       "      <td>4200</td>\n",
       "    </tr>\n",
       "    <tr>\n",
       "      <th>3</th>\n",
       "      <td>62300</td>\n",
       "      <td>8400</td>\n",
       "      <td>4200</td>\n",
       "    </tr>\n",
       "    <tr>\n",
       "      <th>4</th>\n",
       "      <td>62300</td>\n",
       "      <td>8400</td>\n",
       "      <td>4200</td>\n",
       "    </tr>\n",
       "  </tbody>\n",
       "</table>\n",
       "</div>"
      ],
      "text/plain": [
       "   Regular  HoraExtra   Sub\n",
       "1    52400       8400  4200\n",
       "2    42900       8400  4200\n",
       "3    62300       8400  4200\n",
       "4    62300       8400  4200"
      ]
     },
     "execution_count": 124,
     "metadata": {},
     "output_type": "execute_result"
    }
   ],
   "source": [
    "capacidades = pd.DataFrame({'Regular': [52400, 42900, 62300, 62300],\n",
    "                        'HoraExtra': [8400 for i in range(4)],\n",
    "                        'Sub': [4200 for i in range(4)]\n",
    "                        }, index = periodos)\n",
    "capacidades"
   ]
  },
  {
   "cell_type": "code",
   "execution_count": 125,
   "metadata": {},
   "outputs": [
    {
     "data": {
      "text/plain": [
       "{(1, 'Regular'): 52400,\n",
       " (1, 'HoraExtra'): 8400,\n",
       " (1, 'Sub'): 4200,\n",
       " (2, 'Regular'): 42900,\n",
       " (2, 'HoraExtra'): 8400,\n",
       " (2, 'Sub'): 4200,\n",
       " (3, 'Regular'): 62300,\n",
       " (3, 'HoraExtra'): 8400,\n",
       " (3, 'Sub'): 4200,\n",
       " (4, 'Regular'): 62300,\n",
       " (4, 'HoraExtra'): 8400,\n",
       " (4, 'Sub'): 4200}"
      ]
     },
     "execution_count": 125,
     "metadata": {},
     "output_type": "execute_result"
    }
   ],
   "source": [
    "capacidades_dict = capacidades.stack().to_dict()\n",
    "capacidades_dict"
   ]
  },
  {
   "cell_type": "code",
   "execution_count": 126,
   "metadata": {},
   "outputs": [
    {
     "data": {
      "text/plain": [
       "{'Regular': 480, 'HoraExtra': 600, 'Sub': 750}"
      ]
     },
     "execution_count": 126,
     "metadata": {},
     "output_type": "execute_result"
    }
   ],
   "source": [
    "custos = {'Regular': 480, 'HoraExtra': 600, 'Sub': 750}\n",
    "custos"
   ]
  },
  {
   "cell_type": "code",
   "execution_count": 127,
   "metadata": {},
   "outputs": [
    {
     "data": {
      "text/plain": [
       "{1: 52400, 2: 45800, 3: 65000, 4: 87600}"
      ]
     },
     "execution_count": 127,
     "metadata": {},
     "output_type": "execute_result"
    }
   ],
   "source": [
    "demandas = {1: 52400, 2: 45800, 3: 65000, 4: 87600}\n",
    "demandas"
   ]
  },
  {
   "attachments": {},
   "cell_type": "markdown",
   "metadata": {},
   "source": [
    "## Etapa 2: Modelagem"
   ]
  },
  {
   "attachments": {},
   "cell_type": "markdown",
   "metadata": {},
   "source": [
    "### Criando o modelo\n",
    "\n",
    "Para instanciar o modelo, basta usar a função ConcreteModel():"
   ]
  },
  {
   "cell_type": "code",
   "execution_count": 136,
   "metadata": {},
   "outputs": [],
   "source": [
    "M = pe.ConcreteModel()"
   ]
  },
  {
   "attachments": {},
   "cell_type": "markdown",
   "metadata": {},
   "source": [
    "### Conjuntos\n",
    "\n",
    "Criando os nossos conjuntos:\n",
    "- Um conjunto para os períodos, chamado de I\n",
    "- Um conjunto para os tipos de produção, chamado de J"
   ]
  },
  {
   "cell_type": "code",
   "execution_count": 137,
   "metadata": {},
   "outputs": [],
   "source": [
    "M.I = pe.Set(initialize = periodos)\n",
    "M.J = pe.Set(initialize = decisoes)"
   ]
  },
  {
   "attachments": {},
   "cell_type": "markdown",
   "metadata": {},
   "source": [
    "### Parâmetros\n",
    "\n",
    "Nossos parâmetros incluem as demandas, capacidades de produção e os custos"
   ]
  },
  {
   "cell_type": "code",
   "execution_count": 138,
   "metadata": {},
   "outputs": [],
   "source": [
    "M.demandas = pe.Param(M.I, initialize = demandas)\n",
    "M.capacidades = pe.Param(M.I, M.J, initialize =  capacidades_dict)\n",
    "M.custos_prod = pe.Param(M.J, initialize = custos)\n",
    "M.custo_manter = pe.Param(initialize = 225)"
   ]
  },
  {
   "attachments": {},
   "cell_type": "markdown",
   "metadata": {},
   "source": [
    "### Variáveis de Decisão"
   ]
  },
  {
   "cell_type": "code",
   "execution_count": 139,
   "metadata": {},
   "outputs": [],
   "source": [
    "M.x = pe.Var(M.I, M.J, within = pe.NonNegativeReals)\n",
    "M.estoque_inicial = pe.Var(M.I, within = pe.NonNegativeReals)\n",
    "M.estoque_final = pe.Var(M.I, within = pe.NonNegativeReals)"
   ]
  },
  {
   "attachments": {},
   "cell_type": "markdown",
   "metadata": {},
   "source": [
    "### Função Objetivo"
   ]
  },
  {
   "cell_type": "code",
   "execution_count": 140,
   "metadata": {},
   "outputs": [],
   "source": [
    "def custo_total(M):\n",
    "    return sum(M.x[i,j] * M.custos_prod[j] for i in M.I for j in M.J) + sum(M.estoque_final[i] * M.custo_manter for i in M.I)\n",
    "\n",
    "M.z = pe.Objective(rule = custo_total, sense = pe.minimize)"
   ]
  },
  {
   "attachments": {},
   "cell_type": "markdown",
   "metadata": {},
   "source": [
    "### Restrições"
   ]
  },
  {
   "cell_type": "code",
   "execution_count": 141,
   "metadata": {},
   "outputs": [],
   "source": [
    "# Restrições de demanda\n",
    "M.R_demanda = pe.ConstraintList()\n",
    "for i in M.I:\n",
    "    M.R_demanda.add(expr = M.estoque_inicial[i] + sum(M.x[i, j] for j in M.J) >= M.demandas[i])\n",
    "\n",
    "# Restrições de capacidade\n",
    "M.R_capacidade = pe.ConstraintList()\n",
    "for i in M.I:\n",
    "    for j in M.J:\n",
    "        M.R_capacidade.add(expr = M.x[i,j] <= M.capacidades[i,j])\n",
    "\n",
    "# Lógica dos Estoques\n",
    "M.R_estoquefinal = pe.ConstraintList()\n",
    "M.R_estoqueinicial = pe.ConstraintList()\n",
    "for i in M.I:    \n",
    "    M.R_estoquefinal.add(expr = M.estoque_inicial[i] + sum(M.x[i, j] for j in M.J) - M.demandas[i] == M.estoque_final[i])\n",
    "    if i > 1: \n",
    "        M.R_estoqueinicial.add( expr = M.estoque_inicial[i] == M.estoque_final[i-1]) # Estoque inicial [i] == estoque final [i-1]\n",
    "\n",
    "# Estoque inicial do primeiro período deve ser 5000\n",
    "M.R_estoquenicial_1 = pe.Constraint(expr = M.estoque_inicial[1] == 5000)\n",
    "\n",
    "# Estoque final do último período deve ser 8000\n",
    "M.estoque_final_n = pe.Constraint(expr = M.estoque_final[4] == 8000)"
   ]
  },
  {
   "attachments": {},
   "cell_type": "markdown",
   "metadata": {},
   "source": [
    "### Resolvendo o Modelo e obtendo a solução alcançada\n",
    "\n",
    "Para resolver o modelo, precisamos de um solver. Usaremos aqui o glpk"
   ]
  },
  {
   "cell_type": "code",
   "execution_count": null,
   "metadata": {},
   "outputs": [
    {
     "data": {
      "text/plain": [
       "{'Problem': [{'Name': 'unknown', 'Lower bound': 136534500.0, 'Upper bound': 136534500.0, 'Number of objectives': 1, 'Number of constraints': 26, 'Number of variables': 21, 'Number of nonzeros': 57, 'Sense': 'minimize'}], 'Solver': [{'Status': 'ok', 'Termination condition': 'optimal', 'Statistics': {'Branch and bound': {'Number of bounded subproblems': 0, 'Number of created subproblems': 0}}, 'Error rc': 0, 'Time': 0.11109590530395508}], 'Solution': [OrderedDict([('number of solutions', 0), ('number of solutions displayed', 0)])]}"
      ]
     },
     "execution_count": 105,
     "metadata": {},
     "output_type": "execute_result"
    }
   ],
   "source": [
    "# RESOLUÇÃO DO MODELO\n",
    "pe.SolverFactory('glpk').solve(M)"
   ]
  },
  {
   "cell_type": "code",
   "execution_count": 116,
   "metadata": {},
   "outputs": [
    {
     "name": "stdout",
     "output_type": "stream",
     "text": [
      "z= 137209500.0\n",
      "x_(1, 'Regular') = 52400.0\n",
      "x_(2, 'Regular') = 42900.0\n",
      "x_(2, 'HoraExtra') = 8400.0\n",
      "x_(2, 'Sub') = 300.0\n",
      "x_(3, 'Regular') = 62300.0\n",
      "x_(3, 'HoraExtra') = 8400.0\n",
      "x_(3, 'Sub') = 4200.0\n",
      "x_(4, 'Regular') = 62300.0\n",
      "x_(4, 'HoraExtra') = 8400.0\n",
      "x_(4, 'Sub') = 4200.0\n",
      "estoque_inicial_1 = 5000.0\n",
      "estoque_inicial_2 = 5000.0\n",
      "estoque_inicial_3 = 10800.0\n",
      "estoque_inicial_4 = 20700.0\n",
      "estoque_final_1 = 5000.0\n",
      "estoque_final_2 = 10800.0\n",
      "estoque_final_3 = 20700.0\n",
      "estoque_final_4 = 8000.0\n"
     ]
    }
   ],
   "source": [
    "print(f\"z= {pe.value(M.z)}\")\n",
    "\n",
    "for k in M.x.keys(): \n",
    "    if pe.value(M.x[k]) > 0:\n",
    "        print (f\"x_{k} = {pe.value(M.x[k])}\")\n",
    "\n",
    "\n",
    "for k in M.estoque_inicial.keys(): \n",
    "    if pe.value(M.estoque_inicial[k]) > 0:\n",
    "        print (f\"estoque_inicial_{k} = {pe.value(M.estoque_inicial[k])}\")\n",
    "\n",
    "for k in M.estoque_final.keys(): \n",
    "    if pe.value(M.estoque_final[k]) > 0:\n",
    "        print (f\"estoque_final_{k} = {pe.value(M.estoque_final[k])}\")"
   ]
  },
  {
   "cell_type": "markdown",
   "metadata": {},
   "source": [
    "## Exercício\n",
    "\n",
    "Uma organização acaba de concluir sua previsão de demanda para o próximo ano. \n",
    "\n",
    "| Período | Demandas |\n",
    "|---------|----------|\n",
    "| Jan       | 1100    |\n",
    "| Fev       | 1200    |\n",
    "| Mar       | 1200    |\n",
    "| Abr       | 1500    |\n",
    "| Mai       | 1600    |\n",
    "| Jun       | 1400    |\n",
    "| Jul       | 1700    |\n",
    "| Ago       | 1800    | \n",
    "| Set       | 2000    | \n",
    "| Out       | 2300    | \n",
    "| Nov       | 1800    | \n",
    "| Dez       | 1600    | \n",
    "\n",
    "\n",
    "No momento, 16 funcionários são responsáveis pela produção. Sabe-se que cada funcionário consegue entregar 100 unidades do produto por mês de forma regular e 10 unidades a partir de horas extras. Além disso, considera-se que a capacidade regular de produção da fábrica varia linearmente com o aumento/dimuição do número de funcionários. \n",
    "\n",
    "Os seguintes valores foram estimados pela equipe responsável pela gestão de custos e são constantes para todos os meses:\n",
    "\n",
    "- Custo de contratação: R$ 1000/colaborador\n",
    "- Custo de demissão: R$ 3500/colaborador\n",
    "- Custo de estocar: R$ 5,00/produto/mês\n",
    "- Custo regular de produção: R$ 20,00/produto\n",
    "- Custo de produção com horas extras: R$ 24,00/produto\n",
    "\n",
    "Sabe-se que, inicialmente, não há unidades em estoque. Além disso, os gestores gostariam que, ao fim do último mês, não fique unidades em estoque para o ano seguinte.\n",
    "\n",
    "Considerando as informações mencionadas acima. Resolva o problema usando as seguintes estratégias:\n",
    "\n",
    "1. Utilizando força de trabalho constante (não é permitida a contratação e demissão de funcionários). O seu plano fez uso de horas extras? Usou estoques?\n",
    "2. Digamos que aconteceu um acidente no armazem. Assim, estoques não serão permitidos. Determine o plano agregado considerando também que agora você pode variar a força de trabalho.\n",
    "3. Considere que a legislação vigente não permite ociosidade na força de trabalho (se a demanda de um período for menor do que a força de trabalho, você precisará obrigatoriamente demitir). O resultado obtido no plano agregado 2 seria alterado?\n",
    "4. Formule agora o plano considerando que você possa usar qualquer estratégia que quiser (contratação e subcontratação, estoques, horas extras) e que não há legislação sobre a ociosidade na força de trabalho."
   ]
  }
 ],
 "metadata": {
  "kernelspec": {
   "display_name": "base",
   "language": "python",
   "name": "python3"
  },
  "language_info": {
   "codemirror_mode": {
    "name": "ipython",
    "version": 3
   },
   "file_extension": ".py",
   "mimetype": "text/x-python",
   "name": "python",
   "nbconvert_exporter": "python",
   "pygments_lexer": "ipython3",
   "version": "3.9.7"
  },
  "orig_nbformat": 4
 },
 "nbformat": 4,
 "nbformat_minor": 2
}
