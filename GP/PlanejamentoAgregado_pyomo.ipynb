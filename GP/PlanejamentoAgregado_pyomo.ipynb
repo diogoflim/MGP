{
 "cells": [
  {
   "attachments": {},
   "cell_type": "markdown",
   "metadata": {},
   "source": [
    "[![Open In Colab](https://colab.research.google.com/assets/colab-badge.svg)](https://colab.research.google.com/github/diogoflim/MGP/blob/main/GP/PlanejamentoAgregado_pyomo.ipynb)"
   ]
  },
  {
   "attachments": {},
   "cell_type": "markdown",
   "metadata": {},
   "source": [
    "# Modelagem e Gestão de Processos\n",
    "\n",
    "TEP - UFF\n",
    "\n",
    "\n",
    "**Professor: Diogo Ferreira de Lima Silva**"
   ]
  },
  {
   "attachments": {},
   "cell_type": "markdown",
   "metadata": {},
   "source": [
    "## Um Problema de Planejamento Agregado"
   ]
  },
  {
   "cell_type": "code",
   "execution_count": 142,
   "metadata": {},
   "outputs": [
    {
     "name": "stdout",
     "output_type": "stream",
     "text": [
      "^C\n"
     ]
    },
    {
     "name": "stderr",
     "output_type": "stream",
     "text": [
      "'apt-get' n�o � reconhecido como um comando interno\n",
      "ou externo, um programa oper�vel ou um arquivo em lotes.\n"
     ]
    }
   ],
   "source": [
    "#Execute esse bloco caso esteja executando no Google Colab\n",
    "!pip install -q pyomo\n",
    "!apt-get install -y -qq glpk-utils"
   ]
  },
  {
   "cell_type": "code",
   "execution_count": 117,
   "metadata": {},
   "outputs": [],
   "source": [
    "import pyomo.environ as pe\n",
    "import pandas as pd"
   ]
  },
  {
   "attachments": {},
   "cell_type": "markdown",
   "metadata": {},
   "source": [
    "## Etapa 1: Coleta de Dados do Problema"
   ]
  },
  {
   "cell_type": "code",
   "execution_count": 123,
   "metadata": {},
   "outputs": [],
   "source": [
    "periodos = [1,2,3,4]\n",
    "decisoes = ['Regular', 'HoraExtra', 'Sub']"
   ]
  },
  {
   "cell_type": "code",
   "execution_count": 124,
   "metadata": {},
   "outputs": [
    {
     "data": {
      "text/html": [
       "<div>\n",
       "<style scoped>\n",
       "    .dataframe tbody tr th:only-of-type {\n",
       "        vertical-align: middle;\n",
       "    }\n",
       "\n",
       "    .dataframe tbody tr th {\n",
       "        vertical-align: top;\n",
       "    }\n",
       "\n",
       "    .dataframe thead th {\n",
       "        text-align: right;\n",
       "    }\n",
       "</style>\n",
       "<table border=\"1\" class=\"dataframe\">\n",
       "  <thead>\n",
       "    <tr style=\"text-align: right;\">\n",
       "      <th></th>\n",
       "      <th>Regular</th>\n",
       "      <th>HoraExtra</th>\n",
       "      <th>Sub</th>\n",
       "    </tr>\n",
       "  </thead>\n",
       "  <tbody>\n",
       "    <tr>\n",
       "      <th>1</th>\n",
       "      <td>52400</td>\n",
       "      <td>8400</td>\n",
       "      <td>4200</td>\n",
       "    </tr>\n",
       "    <tr>\n",
       "      <th>2</th>\n",
       "      <td>42900</td>\n",
       "      <td>8400</td>\n",
       "      <td>4200</td>\n",
       "    </tr>\n",
       "    <tr>\n",
       "      <th>3</th>\n",
       "      <td>62300</td>\n",
       "      <td>8400</td>\n",
       "      <td>4200</td>\n",
       "    </tr>\n",
       "    <tr>\n",
       "      <th>4</th>\n",
       "      <td>62300</td>\n",
       "      <td>8400</td>\n",
       "      <td>4200</td>\n",
       "    </tr>\n",
       "  </tbody>\n",
       "</table>\n",
       "</div>"
      ],
      "text/plain": [
       "   Regular  HoraExtra   Sub\n",
       "1    52400       8400  4200\n",
       "2    42900       8400  4200\n",
       "3    62300       8400  4200\n",
       "4    62300       8400  4200"
      ]
     },
     "execution_count": 124,
     "metadata": {},
     "output_type": "execute_result"
    }
   ],
   "source": [
    "capacidades = pd.DataFrame({'Regular': [52400, 42900, 62300, 62300],\n",
    "                        'HoraExtra': [8400 for i in range(4)],\n",
    "                        'Sub': [4200 for i in range(4)]\n",
    "                        }, index = periodos)\n",
    "capacidades"
   ]
  },
  {
   "cell_type": "code",
   "execution_count": 125,
   "metadata": {},
   "outputs": [
    {
     "data": {
      "text/plain": [
       "{(1, 'Regular'): 52400,\n",
       " (1, 'HoraExtra'): 8400,\n",
       " (1, 'Sub'): 4200,\n",
       " (2, 'Regular'): 42900,\n",
       " (2, 'HoraExtra'): 8400,\n",
       " (2, 'Sub'): 4200,\n",
       " (3, 'Regular'): 62300,\n",
       " (3, 'HoraExtra'): 8400,\n",
       " (3, 'Sub'): 4200,\n",
       " (4, 'Regular'): 62300,\n",
       " (4, 'HoraExtra'): 8400,\n",
       " (4, 'Sub'): 4200}"
      ]
     },
     "execution_count": 125,
     "metadata": {},
     "output_type": "execute_result"
    }
   ],
   "source": [
    "capacidades_dict = capacidades.stack().to_dict()\n",
    "capacidades_dict"
   ]
  },
  {
   "cell_type": "code",
   "execution_count": 126,
   "metadata": {},
   "outputs": [
    {
     "data": {
      "text/plain": [
       "{'Regular': 480, 'HoraExtra': 600, 'Sub': 750}"
      ]
     },
     "execution_count": 126,
     "metadata": {},
     "output_type": "execute_result"
    }
   ],
   "source": [
    "custos = {'Regular': 480, 'HoraExtra': 600, 'Sub': 750}\n",
    "custos"
   ]
  },
  {
   "cell_type": "code",
   "execution_count": 127,
   "metadata": {},
   "outputs": [
    {
     "data": {
      "text/plain": [
       "{1: 52400, 2: 45800, 3: 65000, 4: 87600}"
      ]
     },
     "execution_count": 127,
     "metadata": {},
     "output_type": "execute_result"
    }
   ],
   "source": [
    "demandas = {1: 52400, 2: 45800, 3: 65000, 4: 87600}\n",
    "demandas"
   ]
  },
  {
   "attachments": {},
   "cell_type": "markdown",
   "metadata": {},
   "source": [
    "## Etapa 2: Modelagem"
   ]
  },
  {
   "attachments": {},
   "cell_type": "markdown",
   "metadata": {},
   "source": [
    "### Criando o modelo\n",
    "\n",
    "Para instanciar o modelo, basta usar a função ConcreteModel():"
   ]
  },
  {
   "cell_type": "code",
   "execution_count": 136,
   "metadata": {},
   "outputs": [],
   "source": [
    "M = pe.ConcreteModel()"
   ]
  },
  {
   "attachments": {},
   "cell_type": "markdown",
   "metadata": {},
   "source": [
    "### Conjuntos\n",
    "\n",
    "Criando os nossos conjuntos:\n",
    "- Um conjunto para os períodos, chamado de I\n",
    "- Um conjunto para os tipos de produção, chamado de J"
   ]
  },
  {
   "cell_type": "code",
   "execution_count": 137,
   "metadata": {},
   "outputs": [],
   "source": [
    "M.I = pe.Set(initialize = periodos)\n",
    "M.J = pe.Set(initialize = decisoes)"
   ]
  },
  {
   "attachments": {},
   "cell_type": "markdown",
   "metadata": {},
   "source": [
    "### Parâmetros\n",
    "\n",
    "Nossos parâmetros incluem as demandas, capacidades de produção e os custos"
   ]
  },
  {
   "cell_type": "code",
   "execution_count": 138,
   "metadata": {},
   "outputs": [],
   "source": [
    "M.demandas = pe.Param(M.I, initialize = demandas)\n",
    "M.capacidades = pe.Param(M.I, M.J, initialize =  capacidades_dict)\n",
    "M.custos_prod = pe.Param(M.J, initialize = custos)\n",
    "M.custo_manter = pe.Param(initialize = 225)"
   ]
  },
  {
   "attachments": {},
   "cell_type": "markdown",
   "metadata": {},
   "source": [
    "### Variáveis de Decisão"
   ]
  },
  {
   "cell_type": "code",
   "execution_count": 139,
   "metadata": {},
   "outputs": [],
   "source": [
    "M.x = pe.Var(M.I, M.J, within = pe.NonNegativeReals)\n",
    "M.estoque_inicial = pe.Var(M.I, within = pe.NonNegativeReals)\n",
    "M.estoque_final = pe.Var(M.I, within = pe.NonNegativeReals)"
   ]
  },
  {
   "attachments": {},
   "cell_type": "markdown",
   "metadata": {},
   "source": [
    "### Função Objetivo"
   ]
  },
  {
   "cell_type": "code",
   "execution_count": 140,
   "metadata": {},
   "outputs": [],
   "source": [
    "def custo_total(M):\n",
    "    return sum(M.x[i,j] * M.custos_prod[j] for i in M.I for j in M.J) + sum(M.estoque_final[i] * M.custo_manter for i in M.I)\n",
    "\n",
    "M.z = pe.Objective(rule = custo_total, sense = pe.minimize)"
   ]
  },
  {
   "attachments": {},
   "cell_type": "markdown",
   "metadata": {},
   "source": [
    "### Restrições"
   ]
  },
  {
   "cell_type": "code",
   "execution_count": 141,
   "metadata": {},
   "outputs": [],
   "source": [
    "# Restrições de demanda\n",
    "M.R_demanda = pe.ConstraintList()\n",
    "for i in M.I:\n",
    "    M.R_demanda.add(expr = M.estoque_inicial[i] + sum(M.x[i, j] for j in M.J) >= M.demandas[i])\n",
    "\n",
    "# Restrições de capacidade\n",
    "M.R_capacidade = pe.ConstraintList()\n",
    "for i in M.I:\n",
    "    for j in M.J:\n",
    "        M.R_capacidade.add(expr = M.x[i,j] <= M.capacidades[i,j])\n",
    "\n",
    "# Lógica dos Estoques\n",
    "M.R_estoquefinal = pe.ConstraintList()\n",
    "M.R_estoqueinicial = pe.ConstraintList()\n",
    "for i in M.I:    \n",
    "    M.R_estoquefinal.add(expr = M.estoque_inicial[i] + sum(M.x[i, j] for j in M.J) - M.demandas[i] == M.estoque_final[i])\n",
    "    if i > 1: \n",
    "        M.R_estoqueinicial.add( expr = M.estoque_inicial[i] == M.estoque_final[i-1]) # Estoque inicial [i] == estoque final [i-1]\n",
    "\n",
    "# Estoque inicial do primeiro período deve ser 5000\n",
    "M.R_estoquenicial_1 = pe.Constraint(expr = M.estoque_inicial[1] == 5000)\n",
    "\n",
    "# Estoque final do último período deve ser 8000\n",
    "M.estoque_final_n = pe.Constraint(expr = M.estoque_final[4] == 8000)"
   ]
  },
  {
   "attachments": {},
   "cell_type": "markdown",
   "metadata": {},
   "source": [
    "### Resolvendo o Modelo e obtendo a solução alcançada\n",
    "\n",
    "Para resolver o modelo, precisamos de um solver. Usaremos aqui o glpk"
   ]
  },
  {
   "cell_type": "code",
   "execution_count": null,
   "metadata": {},
   "outputs": [
    {
     "data": {
      "text/plain": [
       "{'Problem': [{'Name': 'unknown', 'Lower bound': 136534500.0, 'Upper bound': 136534500.0, 'Number of objectives': 1, 'Number of constraints': 26, 'Number of variables': 21, 'Number of nonzeros': 57, 'Sense': 'minimize'}], 'Solver': [{'Status': 'ok', 'Termination condition': 'optimal', 'Statistics': {'Branch and bound': {'Number of bounded subproblems': 0, 'Number of created subproblems': 0}}, 'Error rc': 0, 'Time': 0.11109590530395508}], 'Solution': [OrderedDict([('number of solutions', 0), ('number of solutions displayed', 0)])]}"
      ]
     },
     "execution_count": 105,
     "metadata": {},
     "output_type": "execute_result"
    }
   ],
   "source": [
    "# RESOLUÇÃO DO MODELO\n",
    "pe.SolverFactory('glpk').solve(M)"
   ]
  },
  {
   "cell_type": "code",
   "execution_count": 116,
   "metadata": {},
   "outputs": [
    {
     "name": "stdout",
     "output_type": "stream",
     "text": [
      "z= 137209500.0\n",
      "x_(1, 'Regular') = 52400.0\n",
      "x_(2, 'Regular') = 42900.0\n",
      "x_(2, 'HoraExtra') = 8400.0\n",
      "x_(2, 'Sub') = 300.0\n",
      "x_(3, 'Regular') = 62300.0\n",
      "x_(3, 'HoraExtra') = 8400.0\n",
      "x_(3, 'Sub') = 4200.0\n",
      "x_(4, 'Regular') = 62300.0\n",
      "x_(4, 'HoraExtra') = 8400.0\n",
      "x_(4, 'Sub') = 4200.0\n",
      "estoque_inicial_1 = 5000.0\n",
      "estoque_inicial_2 = 5000.0\n",
      "estoque_inicial_3 = 10800.0\n",
      "estoque_inicial_4 = 20700.0\n",
      "estoque_final_1 = 5000.0\n",
      "estoque_final_2 = 10800.0\n",
      "estoque_final_3 = 20700.0\n",
      "estoque_final_4 = 8000.0\n"
     ]
    }
   ],
   "source": [
    "print(f\"z= {pe.value(M.z)}\")\n",
    "\n",
    "for k in M.x.keys(): \n",
    "    if pe.value(M.x[k]) > 0:\n",
    "        print (f\"x_{k} = {pe.value(M.x[k])}\")\n",
    "\n",
    "\n",
    "for k in M.estoque_inicial.keys(): \n",
    "    if pe.value(M.estoque_inicial[k]) > 0:\n",
    "        print (f\"estoque_inicial_{k} = {pe.value(M.estoque_inicial[k])}\")\n",
    "\n",
    "for k in M.estoque_final.keys(): \n",
    "    if pe.value(M.estoque_final[k]) > 0:\n",
    "        print (f\"estoque_final_{k} = {pe.value(M.estoque_final[k])}\")"
   ]
  },
  {
   "cell_type": "code",
   "execution_count": null,
   "metadata": {},
   "outputs": [],
   "source": []
  }
 ],
 "metadata": {
  "kernelspec": {
   "display_name": "base",
   "language": "python",
   "name": "python3"
  },
  "language_info": {
   "codemirror_mode": {
    "name": "ipython",
    "version": 3
   },
   "file_extension": ".py",
   "mimetype": "text/x-python",
   "name": "python",
   "nbconvert_exporter": "python",
   "pygments_lexer": "ipython3",
   "version": "3.9.7"
  },
  "orig_nbformat": 4
 },
 "nbformat": 4,
 "nbformat_minor": 2
}
