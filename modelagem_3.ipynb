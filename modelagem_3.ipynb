{
 "cells": [
  {
   "cell_type": "markdown",
   "id": "e159502c-561c-4d4e-94bb-26565d45cf11",
   "metadata": {},
   "source": [
    "[![Open In Colab](https://colab.research.google.com/assets/colab-badge.svg)](https://colab.research.google.com/github/diogoflim/MGP/blob/main/modelagem_3.ipynb)"
   ]
  },
  {
   "cell_type": "markdown",
   "id": "67f7a0db-b2fe-4613-aba7-d4d950eb86f5",
   "metadata": {},
   "source": [
    "# Modelagem e Gestão de Processos\n",
    "\n",
    "\n",
    "**Prof. Diogo Ferreira de Lima Silva (TEP-UFF)**\n",
    "\n",
    "Tema da aula - Modelagem de Processos com a biblioteca SimPy"
   ]
  },
  {
   "cell_type": "code",
   "execution_count": null,
   "id": "6871a205-bff4-4ada-9296-73e7aa69b79a",
   "metadata": {},
   "outputs": [],
   "source": [
    "#!pip install simpy\n",
    "import simpy"
   ]
  },
  {
   "cell_type": "code",
   "execution_count": null,
   "id": "6c07ffd3-6299-4c59-82bc-793d3e23d0eb",
   "metadata": {},
   "outputs": [],
   "source": [
    "import random\n",
    "random.seed(10)"
   ]
  },
  {
   "cell_type": "markdown",
   "id": "b51cd793-3e8c-4389-9bbc-49adb94f5dfe",
   "metadata": {},
   "source": [
    "# Sistema M/M/1"
   ]
  },
  {
   "cell_type": "markdown",
   "id": "92be8aef-2b9f-44a2-83fb-2aeee3381034",
   "metadata": {},
   "source": [
    "**Hospital Municipal**\n",
    "\n",
    "O administrador de um hospital concluiu que os casos de emergência chegam, em sua maioria, de forma aleatória (um processo de entrada de Poisson), de modo que os tempos entre atendimentos possuem uma distribuição exponencial.\n",
    "\n",
    "Ele também concluiu que o tempo gasto por um médico tratando os casos segue, aproximadamente, uma distribuição exponencial. \n",
    "\n",
    "Ele optou pelo modelo M/M/1 para um estudo preliminar desse sistema de filas.\n",
    "\n",
    "Projetando para o ano que vem os dados disponíveis para o turno do início da noite, ele estima que os pacientes chegarão em uma taxa média de 1 a cada 1/2 hora. O médico responsável demora em média de 20 minutos para atender cada paciente. \n",
    "\n",
    "Portanto, com uma hora sendo a unidade de tempo, temos:\n",
    "\n",
    "- $\\lambda = 2$ clientes por hora.\n",
    "\n",
    "- $\\mu = 3$ clientes por hora.\n",
    "\n",
    "Qual o tempo em fila médio nesse processo?\n"
   ]
  },
  {
   "cell_type": "code",
   "execution_count": null,
   "id": "1015a7dc-741d-4806-9ada-5a5808965597",
   "metadata": {},
   "outputs": [],
   "source": [
    "def hospital (environment, paciente, medico):\n",
    "    #print (f\"{paciente} chega ao hospital em {env.now}\") \n",
    "    chegou = environment.now\n",
    "    \n",
    "    with medico.request() as req_medico:\n",
    "        yield req_medico\n",
    "        #print (f\"{paciente} inicia a consulta em {env.now}\")\n",
    "        espera.append(environment.now - chegou)\n",
    "        \n",
    "        yield environment.timeout(random.expovariate(3)) \n",
    "        #print (f\"{paciente} finaliza a consulta e sai do hospital em {env.now}\")\n",
    "\n",
    "\n",
    "def chegadas (environment):\n",
    "    i=1 \n",
    "    while True:\n",
    "        yield environment.timeout(random.expovariate(2))\n",
    "        environment.process(hospital (env, 'Paciente %d' % i, medico))\n",
    "        i+=1\n",
    "\n"
   ]
  },
  {
   "cell_type": "code",
   "execution_count": null,
   "id": "9cf667bb-450f-47b9-81b0-33825e7c9f1c",
   "metadata": {},
   "outputs": [],
   "source": [
    "espera = []\n",
    "env = simpy.Environment()\n",
    "medico = simpy.Resource(env, capacity=1)\n",
    "env.process(chegadas(env))\n",
    "env.run(until = 100000)"
   ]
  },
  {
   "cell_type": "code",
   "execution_count": null,
   "id": "e4ab4c36-7c9c-4d2f-95f3-0450bfc4cf36",
   "metadata": {},
   "outputs": [],
   "source": [
    "import numpy as np\n",
    "np.mean(espera)"
   ]
  },
  {
   "cell_type": "markdown",
   "id": "60b94cfe-8fbd-4283-b3ef-ec41608ba34e",
   "metadata": {},
   "source": [
    "Pela fórmula, era esperado: \n",
    "\n",
    "$$\\frac{\\lambda}{\\mu(\\mu - \\lambda)} = 2/3 = 0,6667$$\n",
    "\n",
    "Nosso resultado simulado se aproxima bem do esperado."
   ]
  },
  {
   "cell_type": "markdown",
   "id": "762a3789-353f-402e-a52a-79fa1dfc03af",
   "metadata": {},
   "source": [
    "E se tivessemos 2 médicos?"
   ]
  },
  {
   "cell_type": "code",
   "execution_count": null,
   "id": "15e8d9f9-d74e-4dc5-b292-c883a708a6ef",
   "metadata": {},
   "outputs": [],
   "source": [
    "espera = []\n",
    "env2 = simpy.Environment()\n",
    "medico = simpy.Resource(env2, capacity=2)\n",
    "env2.process(chegadas(env2))\n",
    "env2.run(until = 100000)"
   ]
  },
  {
   "cell_type": "code",
   "execution_count": null,
   "id": "8e500cd8-b006-4373-812d-c38fbaf7e1be",
   "metadata": {},
   "outputs": [],
   "source": [
    "np.mean(espera)"
   ]
  },
  {
   "cell_type": "markdown",
   "id": "bf0e8318-657c-409f-a433-0eaf210a7066",
   "metadata": {},
   "source": [
    "A fórmula do valor esperado previa $L_q = \\frac{1}{12} = 0,04167$"
   ]
  },
  {
   "cell_type": "markdown",
   "id": "0fcca7e8-8475-46df-8e9f-6121a12bb337",
   "metadata": {},
   "source": [
    "# Exercício"
   ]
  },
  {
   "cell_type": "markdown",
   "id": "67176eca-fdba-4293-8931-c21ed23c2e01",
   "metadata": {},
   "source": [
    "### Modelo M/M/1\n",
    "\n",
    "Vamos modelar um sistema faz parte do curso de Pesquisa Operacional III, o sistema de filas M/M/1.\n",
    "\n",
    "- Taxa de chegadas $\\lambda = 5$ clientes/hora\n",
    "- Taxa de atendimento $\\mu = 4$ clientes/hora\n",
    "\n",
    "Guarde o valor do tempo de espera em fila e do tempo no sistema (tempo de ciclo).\n",
    "\n",
    "Simule until = 60000. \n",
    "\n",
    "Os resultados batem com o esperado? Faça os cálculos com as fórmulas clássicas de Teoria das Filas?"
   ]
  },
  {
   "cell_type": "code",
   "execution_count": null,
   "id": "16a047cb-e549-453e-a7d9-164c8c27fd97",
   "metadata": {},
   "outputs": [],
   "source": [
    "def fila_MM1 (environment, nome, atendente):\n",
    "    pass\n"
   ]
  },
  {
   "cell_type": "markdown",
   "id": "e5db8df4-5c44-4e46-9ca7-3933933c959a",
   "metadata": {},
   "source": [
    "---\n",
    "---\n",
    "---"
   ]
  },
  {
   "cell_type": "markdown",
   "id": "5f2e3f1f-104a-4866-8644-b57898b944e9",
   "metadata": {},
   "source": [
    "### Exemplo de processo que não alcança estado estável\n",
    "\n",
    "Exemplo de processo M/M/2, com $\\lambda = 1$ e $\\mu = 0,2$.\n",
    "\n",
    "Como $\\rho = \\frac{\\lambda}{s\\times \\mu} = \\frac{1}{0,4} >1$, é esperado que o processo não estabilize.\n",
    "\n",
    "A fila explodirá. \n",
    "\n",
    "Altere o código e calcule o tempo médio de espera dos clientes que finalizaram o serviço."
   ]
  },
  {
   "cell_type": "code",
   "execution_count": null,
   "id": "a20fac89-94eb-4f1f-83b1-f70d30d18640",
   "metadata": {},
   "outputs": [],
   "source": [
    "def estabelecimento (environment, nome_cliente, servidor):\n",
    "    print (f\"{nome_cliente} chega ao estabelecimento em {environment.now}\") \n",
    "    \n",
    "    with servidor.request() as req:\n",
    "        yield req\n",
    "        print (f\"{nome_cliente} inicia o serviço em {environment.now}\") \n",
    "        yield environment.timeout(random.expovariate(1/5)) \n",
    "        print (f\"{nome_cliente} finaliza o serviço e sai do estabelecimento em {environment.now}\")\n",
    "\n",
    "def chegadas (environment):\n",
    "    i=1 \n",
    "    while True:\n",
    "        yield environment.timeout(random.expovariate(1))\n",
    "        environment.process(estabelecimento (environment, 'Cliente %d' % i, servidor))\n",
    "        i+=1\n",
    "\n",
    "env3 = simpy.Environment()\n",
    "servidor = simpy.Resource(env3, capacity=2)\n",
    "env3.process(chegadas(env3))\n",
    "env3.run(until = 480)"
   ]
  }
 ],
 "metadata": {
  "kernelspec": {
   "display_name": "Python 3.10.4 64-bit",
   "language": "python",
   "name": "python3"
  },
  "language_info": {
   "codemirror_mode": {
    "name": "ipython",
    "version": 3
   },
   "file_extension": ".py",
   "mimetype": "text/x-python",
   "name": "python",
   "nbconvert_exporter": "python",
   "pygments_lexer": "ipython3",
   "version": "3.10.4"
  },
  "vscode": {
   "interpreter": {
    "hash": "369f2c481f4da34e4445cda3fffd2e751bd1c4d706f27375911949ba6bb62e1c"
   }
  }
 },
 "nbformat": 4,
 "nbformat_minor": 5
}
