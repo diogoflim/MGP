{
 "cells": [
  {
   "cell_type": "markdown",
   "metadata": {},
   "source": [
    "[![Open In Colab](https://colab.research.google.com/assets/colab-badge.svg)](https://colab.research.google.com/github/diogoflim/MGP/blob/main/modelagem_1.ipynb)"
   ]
  },
  {
   "cell_type": "markdown",
   "metadata": {},
   "source": [
    "# Modelagem e Gestão de Processos\n",
    "\n",
    "\n",
    "**Prof. Diogo Ferreira de Lima Silva (TEP-UFF)**\n",
    "\n",
    "Tema da aula - Modelagem de Processos com a biblioteca SimPy"
   ]
  },
  {
   "cell_type": "markdown",
   "metadata": {},
   "source": [
    "# SimPy\n",
    "\n",
    "A biblioteca SimPy apresenta um framework útil para simular o funcionamento de processos em Python. \n",
    "\n",
    "O usuário ganha grande liberdade para modelar processos específicos de sua organização. \n",
    "\n",
    "Além disso, pode integrar ao modelo as inúmeras bibliotecas existentes em python para Estatística, Ciência de Dados, Aprendeizado de Máquina, Otimização, etc."
   ]
  },
  {
   "cell_type": "markdown",
   "metadata": {},
   "source": [
    "## Importando o SimPy\n",
    "\n",
    "Se estiver trabalhando localmente, uma vez instalado o Python, você deverá instalar a biblioteca SimPy antes de importá-la. \n",
    "\n",
    "- Isso pode ser feito com o comando: **pip install simpy**\n",
    "\n",
    "No caso do Googlo Colab: **!pip install simpy**\n",
    "\n",
    "Uma vez instalada, podemos importar a biblioteca normalmente simplesmente com: **import simpy**. "
   ]
  },
  {
   "cell_type": "code",
   "execution_count": null,
   "metadata": {},
   "outputs": [],
   "source": [
    "#!pip install simpy\n",
    "import simpy"
   ]
  },
  {
   "cell_type": "markdown",
   "metadata": {},
   "source": [
    "Além do SimPy, vamos importar a biblioteca random para usar suas distribuições de probabilidades. "
   ]
  },
  {
   "cell_type": "code",
   "execution_count": null,
   "metadata": {},
   "outputs": [],
   "source": [
    "import random\n",
    "\n",
    "# Seu computador não gera números verdadeiramente aleatórios, mas sim, pseudoaleatórios.\n",
    "# Vamos \"travar\" a semente de geração desses números. Assim, resultados poderão ser reproduzidos no futuro.\n",
    "random.seed(10)"
   ]
  },
  {
   "cell_type": "markdown",
   "metadata": {},
   "source": [
    "# Um exemplo simples: Pomodoro\n",
    "\n",
    "Com o intuito de aumentar sua produtividade, um estudante/trabalhador resolve seguir a recomendação de uma colega sobre a metodologia Pomodoro.\n",
    "\n",
    "- Ele fará alternadamente intervalos de trabalho e pausa (descanso, café, água, banheiro) durante o dia.\n",
    "\n",
    "    - O tempo até a próxima parada para descanso (tempo de trabalho) segue uma distribuição uniforme que varia entre 24 e 26 minutos.\n",
    "    - As pausas seguem uma exponencial de média 5 minutos.\n",
    "\n",
    "Vamos modelar o funcionamento desse processo por 8 horas de trabalho e imprimir em nossa tela sempre que um evento (pausa ou trabalho) for iniciado."
   ]
  },
  {
   "cell_type": "markdown",
   "metadata": {},
   "source": [
    "## Criando um ambiente de simulação\n",
    "\n",
    "\n",
    "O primeiro passo será criar um ambiente (environment) no SimPy. "
   ]
  },
  {
   "cell_type": "code",
   "execution_count": null,
   "metadata": {},
   "outputs": [],
   "source": [
    "# Criando uma instância de ambiente do simpy e armazenando em env\n",
    "\n",
    "env = simpy.Environment()"
   ]
  },
  {
   "cell_type": "markdown",
   "metadata": {},
   "source": [
    "Nosso processo possui duas atividades (subprocessos): **trabalhar** e **descansar**. \n",
    "\n",
    "A próxima etapa é criar um **generator** (tipo especial de função) para simular o funcionamento dessas atividades. "
   ]
  },
  {
   "cell_type": "markdown",
   "metadata": {},
   "source": [
    "### Modelando o Processo"
   ]
  },
  {
   "cell_type": "code",
   "execution_count": null,
   "metadata": {},
   "outputs": [],
   "source": [
    "# Criaremos um gerador de nome pomodoro \n",
    "\n",
    "def pomodoro ():\n",
    "    pass "
   ]
  },
  {
   "cell_type": "markdown",
   "metadata": {},
   "source": [
    "Por enquanto, não passamos nada para nosso gerador. \n",
    "\n",
    "Os parâmetros que ele irá receber devem incluir o ambiente criado no simpy. \n",
    "\n",
    "Vamos também passar como parâmetro o nome do colaborador."
   ]
  },
  {
   "cell_type": "code",
   "execution_count": null,
   "metadata": {},
   "outputs": [],
   "source": [
    "def Pomodoro (environment, nome):\n",
    "    pass "
   ]
  },
  {
   "cell_type": "markdown",
   "metadata": {},
   "source": [
    "Agora, podemos trabalhar nas atividades que farão parte do nosso processo: **trabalhar** e **descansar**.\n",
    "\n",
    "Para isso, usaremos o **yield** e os métodos **now** e **timeout** do simpy.\n",
    "\n",
    "- O **yield** é usado em uma função geradora (em detrimento do return numa função normal). No caso do yield, guardamos um iterador (no nosso caso será o tempo de início de cada evento) que poderá ser retomado no futuro e usado em outro chamado da função geradora. \n",
    "\n",
    "- O método **now** do SimPy retorna o tempo de simulação no nosso ambiente enquanto o **timeout** avisa à simulação para percorrer um tempo."
   ]
  },
  {
   "cell_type": "code",
   "execution_count": null,
   "metadata": {},
   "outputs": [],
   "source": [
    "def pomodoro (environment, nome):\n",
    "    \n",
    "    # enquanto a simulação estiver ocorrendo\n",
    "    while True:\n",
    "        \n",
    "        # imprima na tela o tempo de início do evento e depois percorra um tempo random.uniform(24, 26)\n",
    "        print (f\"{nome} inicia trabalho no tempo {environment.now}\")\n",
    "        yield environment.timeout(random.uniform(24,26))\n",
    "\n",
    "        # imprima na tela o tempo de início do evento e depois percorra um tempo random.expovariate(1/média)\n",
    "        print (f\"{nome} inicia descanso no tempo {environment.now}\")\n",
    "        yield environment.timeout(random.expovariate(1/5))"
   ]
  },
  {
   "cell_type": "markdown",
   "metadata": {},
   "source": [
    "Nosso gerador \"pomodoro\" ainda não é visto como um processo do nosso environment no SimPy. \n",
    "\n",
    "O próximo passo é instanciar nosso processo usando o simpy.Environment.process. \n",
    "\n",
    "No nosso caso, fica simplesmente **env.process**."
   ]
  },
  {
   "cell_type": "code",
   "execution_count": null,
   "metadata": {},
   "outputs": [],
   "source": [
    "# Instância do processo\n",
    "env.process(pomodoro(env, \"Will_Smith\"))"
   ]
  },
  {
   "cell_type": "markdown",
   "metadata": {},
   "source": [
    "Agora, vamos rodar o nosso processo até o minuto 480, ou seja, simularemos 8h de trabalho."
   ]
  },
  {
   "cell_type": "code",
   "execution_count": null,
   "metadata": {},
   "outputs": [],
   "source": [
    "env.run (until = 480)"
   ]
  },
  {
   "cell_type": "markdown",
   "metadata": {},
   "source": [
    "# Modelando um Processo com Várias Atividades"
   ]
  },
  {
   "cell_type": "markdown",
   "metadata": {},
   "source": [
    "Agora vamos modelar um processo um pouco mais complexo. Teremos chegadas de clientes em um serviço composto por três atividades: A, B e C.\n",
    "\n",
    "-  Um processo de chegadas inicializa a cada chegada de um cliente. O tempo entre chegadas segue uma distribuição Exponencial com média de 5 minutos. \n",
    "     \n",
    "$$\\frac{1}{\\lambda}=5 \\rightarrow \\lambda = 0,2$$ \n",
    "\n",
    "- Cada cliente segue o seguinte percurso:\n",
    "    - Serviço A (tempo de processamento 3 min)\n",
    "    - Serviço B (tempo de processamento de 8 min)\n",
    "    - Serviço C (tempo de processamento segue uma distribuição exponencial com média 5min)"
   ]
  },
  {
   "cell_type": "markdown",
   "metadata": {},
   "source": [
    "Para a realização dos serviços, precisamos de recursos. Por exemplo, atendentes, caixas, etc. \n",
    "\n",
    "Chamaremos os recursos de:\n",
    "\n",
    "- colaborador_A\n",
    "- colaborador_B\n",
    "- colaborador_C\n",
    "\n",
    "Para isso, utilizaremos **recursos** do SimPy, criados com **resource_name = env.Resource (env, capacity)**."
   ]
  },
  {
   "cell_type": "markdown",
   "metadata": {},
   "source": [
    "Um cliente deve esperar até que o recurso esteja disponível. Para modelar isso, usaremos o **resource_name.request()**"
   ]
  },
  {
   "cell_type": "markdown",
   "metadata": {},
   "source": [
    "### Função Geradora"
   ]
  },
  {
   "cell_type": "code",
   "execution_count": null,
   "metadata": {},
   "outputs": [],
   "source": [
    "# Função geradora receberá, além do ambiente e do nome do cliente, os recursos.\n",
    "\n",
    "def salao (environment, nome, colaborador_A, colaborador_B, colaborador_C):\n",
    "    \n",
    "    # imprimimos na tela quando um cliente chega no estabelecimento       \n",
    "    print (f\"{nome} chega no estabelecimento em {env.now}\")\n",
    "    \n",
    "    # Serviço A\n",
    "    # Ao chegar, o cliente deve esperar o recurso do primeiro serviso\n",
    "\n",
    "    with colaborador_A.request() as req_A:\n",
    "        yield req_A # o cliente deve esperar um recurso do tipo colaborador_A\n",
    "        #print (f\"{nome} inicia A em {env.now}\") # imprima na tela o tempo de início\n",
    "        yield environment.timeout(3) # O serviço demora exatamente 3 minutos.\n",
    "        #print (f\"{nome} finaliza A em {env.now}\")\n",
    "\n",
    "    \n",
    "    # Serviço B\n",
    "    with colaborador_B.request() as req_B:\n",
    "        yield req_B\n",
    "        #print (f\"{nome} inicia B em {env.now}\")\n",
    "        yield environment.timeout(8) # O serviço B demora exatamente 8 minutos.\n",
    "        #print (f\"{nome} finaliza B em {env.now}\")\n",
    "    \n",
    "    # Serviço C\n",
    "    with colaborador_C.request() as req_C:\n",
    "        yield req_C\n",
    "        #print (f\"{nome} inicia C em {env.now}\")\n",
    "        yield environment.timeout(random.expovariate(1/5)) # O tempo de serviço em C segue uma exponencial de média 5.\n",
    "    \n",
    "    print (f\"{nome} sai do estabelecimento em {environment.now}\")\n",
    "\n",
    "    "
   ]
  },
  {
   "cell_type": "markdown",
   "metadata": {},
   "source": [
    "### Definindo o ambiente"
   ]
  },
  {
   "cell_type": "code",
   "execution_count": null,
   "metadata": {},
   "outputs": [],
   "source": [
    "env2 = simpy.Environment()"
   ]
  },
  {
   "cell_type": "markdown",
   "metadata": {},
   "source": [
    "### Instanciando os tipos de recurso em nosso ambiente e suas capacidades"
   ]
  },
  {
   "cell_type": "code",
   "execution_count": null,
   "metadata": {},
   "outputs": [],
   "source": [
    "colab_A = simpy.Resource(env2, capacity=1)\n",
    "colab_B = simpy.Resource(env2, capacity=1)\n",
    "colab_C = simpy.Resource(env2, capacity=1)"
   ]
  },
  {
   "cell_type": "markdown",
   "metadata": {},
   "source": [
    "## Processo de Chegadas\n"
   ]
  },
  {
   "cell_type": "markdown",
   "metadata": {},
   "source": [
    "Vamos considerar que o nosso processo de chegadas é um processo de Poisson, com $\\lambda = 0,2$ clientes/minuto;\n",
    "\n",
    "Assim, o tempo entre chegadas segue uma distribuição exponencial de média $1/\\lambda = 5$ minutos.\n",
    "\n",
    "Vamos criar nosso processo de chegadas:"
   ]
  },
  {
   "cell_type": "code",
   "execution_count": null,
   "metadata": {},
   "outputs": [],
   "source": [
    "def chegadas (environment):\n",
    "    i=1 # número que será usado na contagem e nomeação dos clientes\n",
    "    \n",
    "    # Enquanto a simulação ocorrer\n",
    "    while True:\n",
    "        # gere um número de nossa distribuição \n",
    "        yield environment.timeout(random.expovariate(1/5))\n",
    "\n",
    "        # Um cliente entra no processo! Seu nome será \"Cliente i\"\n",
    "        environment.process(salao (environment, 'Cliente %d' % i, colab_A, colab_B, colab_C))\n",
    "        \n",
    "        i+=1 # i = i+1\n",
    "\n",
    "\n",
    "# Instanciando o processo com a função de chegadas.\n",
    "env2.process(chegadas(env2))\n"
   ]
  },
  {
   "cell_type": "markdown",
   "metadata": {},
   "source": [
    "Pronto, agora basta rodar nossa simulação."
   ]
  },
  {
   "cell_type": "code",
   "execution_count": null,
   "metadata": {},
   "outputs": [],
   "source": [
    "env2.run(until=480)"
   ]
  },
  {
   "cell_type": "markdown",
   "metadata": {},
   "source": [
    "Ótimo, já modelamos 2 processos!\n",
    " \n",
    "Porém, não estamos guardando informações para calcular estatísticas que nos interessem."
   ]
  },
  {
   "cell_type": "markdown",
   "metadata": {},
   "source": [
    "---\n"
   ]
  }
 ],
 "metadata": {
  "kernelspec": {
   "display_name": "Python 3 (ipykernel)",
   "language": "python",
   "name": "python3"
  },
  "language_info": {
   "codemirror_mode": {
    "name": "ipython",
    "version": 3
   },
   "file_extension": ".py",
   "mimetype": "text/x-python",
   "name": "python",
   "nbconvert_exporter": "python",
   "pygments_lexer": "ipython3",
   "version": "3.9.7"
  },
  "vscode": {
   "interpreter": {
    "hash": "e4cce46d6be9934fbd27f9ca0432556941ea5bdf741d4f4d64c6cd7f8dfa8fba"
   }
  }
 },
 "nbformat": 4,
 "nbformat_minor": 4
}
