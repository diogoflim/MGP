{
 "cells": [
  {
   "cell_type": "markdown",
   "metadata": {},
   "source": [
    "[![Open In Colab](https://colab.research.google.com/assets/colab-badge.svg)](https://colab.research.google.com/github/diogoflim/MGP/blob/main/modelagem_1.ipynb)"
   ]
  },
  {
   "cell_type": "markdown",
   "metadata": {},
   "source": [
    "# Modelagem e Gestão de Processos\n",
    "\n",
    "\n",
    "**Prof. Diogo Ferreira de Lima Silva (TEP-UFF)**\n",
    "\n",
    "Tema da aula - Modelagem de Processos com a biblioteca SimPy"
   ]
  },
  {
   "cell_type": "markdown",
   "metadata": {},
   "source": [
    "# SimPy\n",
    "\n",
    "A biblioteca SimPy apresenta um framework útil para simular o funcionamento de processos em Python. \n",
    "\n",
    "O usuário ganha grande liberdade para modelar processos específicos de sua organização. \n",
    "\n",
    "Além disso, pode integrar ao modelo as inúmeras bibliotecas existentes em python para Estatística, Ciência de Dados, Aprendeizado de Máquina, Otimização, etc."
   ]
  },
  {
   "cell_type": "markdown",
   "metadata": {},
   "source": [
    "## Importando o SimPy\n",
    "\n",
    "Se estiver trabalhando localmente, uma vez instalado o Python, você deverá instalar a biblioteca SimPy antes de importá-la. \n",
    "\n",
    "- Isso pode ser feito com o comando: **pip install simpy**\n",
    "\n",
    "No caso do Googlo Colab: **!pip install simpy**\n",
    "\n",
    "Uma vez instalada, podemos importar a biblioteca normalmente simplesmente com: **import simpy**. "
   ]
  },
  {
   "cell_type": "code",
   "execution_count": 2,
   "metadata": {},
   "outputs": [],
   "source": [
    "#!pip install simpy\n",
    "import simpy"
   ]
  },
  {
   "cell_type": "markdown",
   "metadata": {},
   "source": [
    "Além do SimPy, vamos importar a biblioteca random para usar suas distribuições de probabilidades. "
   ]
  },
  {
   "cell_type": "code",
   "execution_count": 3,
   "metadata": {},
   "outputs": [],
   "source": [
    "import random\n",
    "\n",
    "# Seu computador não gera números verdadeiramente aleatórios, mas sim, pseudoaleatórios.\n",
    "# Vamos \"travar\" a semente de geração desses números. Assim, resultados poderão ser reproduzidos no futuro.\n",
    "random.seed(10)"
   ]
  },
  {
   "cell_type": "markdown",
   "metadata": {},
   "source": [
    "# Um exemplo simples: Pomodoro\n",
    "\n",
    "Com o intuito de aumentar sua produtividade, um estudante/trabalhador resolve seguir a recomendação de uma colega sobre a metodologia Pomodoro.\n",
    "\n",
    "- Ele fará alternadamente intervalos de trabalho e pausa (descanso, café, água, banheiro) durante o dia.\n",
    "\n",
    "    - O tempo até a próxima parada para descanso (tempo de trabalho) segue uma distribuição uniforme que varia entre 24 e 26 minutos.\n",
    "    - As pausas seguem uma exponencial de média 5 minutos.\n",
    "\n",
    "Vamos modelar o funcionamento desse processo por 8 horas de trabalho e imprimir em nossa tela sempre que um evento (pausa ou trabalho) for iniciado."
   ]
  },
  {
   "cell_type": "markdown",
   "metadata": {},
   "source": [
    "## Criando um ambiente de simulação\n",
    "\n",
    "\n",
    "O primeiro passo será criar um ambiente (environment) no SimPy. "
   ]
  },
  {
   "cell_type": "code",
   "execution_count": 4,
   "metadata": {},
   "outputs": [],
   "source": [
    "# Criando uma instância de ambiente do simpy e armazenando em env\n",
    "\n",
    "env = simpy.Environment()"
   ]
  },
  {
   "cell_type": "markdown",
   "metadata": {},
   "source": [
    "Nosso processo possui duas atividades (subprocessos): **trabalhar** e **descansar**. \n",
    "\n",
    "A próxima etapa é criar um **generator** (tipo especial de função) para simular o funcionamento dessas atividades. "
   ]
  },
  {
   "cell_type": "markdown",
   "metadata": {},
   "source": [
    "### Modelando o Processo"
   ]
  },
  {
   "cell_type": "code",
   "execution_count": 5,
   "metadata": {},
   "outputs": [],
   "source": [
    "# Criaremos um gerador de nome pomodoro \n",
    "\n",
    "def pomodoro ():\n",
    "    pass "
   ]
  },
  {
   "cell_type": "markdown",
   "metadata": {},
   "source": [
    "Por enquanto, não passamos nada para nosso gerador. \n",
    "\n",
    "Os parâmetros que ele irá receber devem incluir o ambiente criado no simpy. \n",
    "\n",
    "Vamos também passar como parâmetro o nome do colaborador."
   ]
  },
  {
   "cell_type": "code",
   "execution_count": 6,
   "metadata": {},
   "outputs": [],
   "source": [
    "def Pomodoro (environment, nome):\n",
    "    pass "
   ]
  },
  {
   "cell_type": "markdown",
   "metadata": {},
   "source": [
    "Agora, podemos trabalhar nas atividades que farão parte do nosso processo: **trabalhar** e **descansar**.\n",
    "\n",
    "Para isso, usaremos o **yield** e os métodos **now** e **timeout** do simpy.\n",
    "\n",
    "- O **yield** é usado em uma função geradora (em detrimento do return numa função normal). No caso do yield, guardamos um iterador (no nosso caso será o tempo de início de cada evento) que poderá ser retomado no futuro e usado em outro chamado da função geradora. \n",
    "\n",
    "- O método **now** do SimPy retorna o tempo de simulação no nosso ambiente enquanto o **timeout** avisa à simulação para percorrer um tempo."
   ]
  },
  {
   "cell_type": "code",
   "execution_count": 7,
   "metadata": {},
   "outputs": [],
   "source": [
    "def pomodoro (environment, nome):\n",
    "    \n",
    "    # enquanto a simulação estiver ocorrendo\n",
    "    while True:\n",
    "        \n",
    "        # imprima na tela o tempo de início do evento e depois percorra um tempo random.uniform(24, 26)\n",
    "        print (f\"{nome} inicia trabalho no tempo {environment.now}\")\n",
    "        yield environment.timeout(random.uniform(24,26))\n",
    "\n",
    "        # imprima na tela o tempo de início do evento e depois percorra um tempo random.expovariate(1/média)\n",
    "        print (f\"{nome} inicia descanso no tempo {environment.now}\")\n",
    "        yield environment.timeout(random.expovariate(1/5))"
   ]
  },
  {
   "cell_type": "markdown",
   "metadata": {},
   "source": [
    "Nosso gerador \"pomodoro\" ainda não é visto como um processo do nosso environment no SimPy. \n",
    "\n",
    "O próximo passo é instanciar nosso processo usando o simpy.Environment.process. \n",
    "\n",
    "No nosso caso, fica simplesmente **env.process**."
   ]
  },
  {
   "cell_type": "code",
   "execution_count": 8,
   "metadata": {},
   "outputs": [
    {
     "data": {
      "text/plain": [
       "<Process(pomodoro) object at 0x210e951cfa0>"
      ]
     },
     "execution_count": 8,
     "metadata": {},
     "output_type": "execute_result"
    }
   ],
   "source": [
    "# Instância do processo\n",
    "env.process(pomodoro(env, \"Will_Smith\"))"
   ]
  },
  {
   "cell_type": "markdown",
   "metadata": {},
   "source": [
    "Agora, vamos rodar o nosso processo até o minuto 480, ou seja, simularemos 8h de trabalho."
   ]
  },
  {
   "cell_type": "code",
   "execution_count": 9,
   "metadata": {},
   "outputs": [
    {
     "name": "stdout",
     "output_type": "stream",
     "text": [
      "Will_Smith inicia trabalho no tempo 0\n",
      "Will_Smith inicia descanso no tempo 25.14280518937983\n",
      "Will_Smith inicia trabalho no tempo 27.943664130161597\n",
      "Will_Smith inicia descanso no tempo 53.099846732430535\n",
      "Will_Smith inicia trabalho no tempo 54.253824449673225\n",
      "Will_Smith inicia descanso no tempo 79.88046695238786\n",
      "Will_Smith inicia trabalho no tempo 88.55515723500187\n",
      "Will_Smith inicia descanso no tempo 113.86210230280423\n",
      "Will_Smith inicia trabalho no tempo 114.7352358331193\n",
      "Will_Smith inicia descanso no tempo 139.77657455239915\n",
      "Will_Smith inicia trabalho no tempo 141.76236914065487\n",
      "Will_Smith inicia descanso no tempo 166.26236249402768\n",
      "Will_Smith inicia trabalho no tempo 181.53096096998934\n",
      "Will_Smith inicia descanso no tempo 207.52407495506824\n",
      "Will_Smith inicia trabalho no tempo 207.75197258188612\n",
      "Will_Smith inicia descanso no tempo 233.4722946564587\n",
      "Will_Smith inicia trabalho no tempo 238.09379086634283\n",
      "Will_Smith inicia descanso no tempo 262.8570028381811\n",
      "Will_Smith inicia trabalho no tempo 264.5247130327617\n",
      "Will_Smith inicia descanso no tempo 289.87464272703164\n",
      "Will_Smith inicia trabalho no tempo 292.9263179854875\n",
      "Will_Smith inicia descanso no tempo 318.2980409564367\n",
      "Will_Smith inicia trabalho no tempo 323.7193150185911\n",
      "Will_Smith inicia descanso no tempo 347.9852713080155\n",
      "Will_Smith inicia trabalho no tempo 355.28686667666193\n",
      "Will_Smith inicia descanso no tempo 381.2516931746843\n",
      "Will_Smith inicia trabalho no tempo 398.6835353246049\n",
      "Will_Smith inicia descanso no tempo 423.91018896569835\n",
      "Will_Smith inicia trabalho no tempo 424.13653912379897\n",
      "Will_Smith inicia descanso no tempo 448.14464941211577\n",
      "Will_Smith inicia trabalho no tempo 448.86384264692157\n",
      "Will_Smith inicia descanso no tempo 474.74584718971323\n",
      "Will_Smith inicia trabalho no tempo 476.54969635847414\n"
     ]
    }
   ],
   "source": [
    "env.run (until = 480)"
   ]
  },
  {
   "cell_type": "markdown",
   "metadata": {},
   "source": [
    "# Modelando um Processo com Várias Atividades"
   ]
  },
  {
   "cell_type": "markdown",
   "metadata": {},
   "source": [
    "Agora vamos modelar um processo um pouco mais complexo. Teremos chegadas de clientes em um serviço composto por três atividades: A, B e C.\n",
    "\n",
    "-  Um processo de chegadas inicializa a cada chegada de um cliente. O tempo entre chegadas segue uma distribuição Exponencial com média de 5 minutos. \n",
    "     \n",
    "$$\\frac{1}{\\lambda}=5 \\rightarrow \\lambda = 0,2$$ \n",
    "\n",
    "- Cada cliente segue o seguinte percurso:\n",
    "    - Serviço A (tempo de processamento 3 min)\n",
    "    - Serviço B (tempo de processamento de 8 min)\n",
    "    - Serviço C (tempo de processamento segue uma distribuição exponencial com média 5min)"
   ]
  },
  {
   "cell_type": "markdown",
   "metadata": {},
   "source": [
    "Para a realização dos serviços, precisamos de recursos. Por exemplo, atendentes, caixas, etc. \n",
    "\n",
    "Chamaremos os recursos de:\n",
    "\n",
    "- colaborador_A\n",
    "- colaborador_B\n",
    "- colaborador_C\n",
    "\n",
    "Para isso, utilizaremos **recursos** do SimPy, criados com **resource_name = env.Resource (env, capacity)**."
   ]
  },
  {
   "cell_type": "markdown",
   "metadata": {},
   "source": [
    "Um cliente deve esperar até que o recurso esteja disponível. Para modelar isso, usaremos o **resource_name.request()**"
   ]
  },
  {
   "cell_type": "markdown",
   "metadata": {},
   "source": [
    "### Função Geradora"
   ]
  },
  {
   "cell_type": "code",
   "execution_count": 10,
   "metadata": {},
   "outputs": [],
   "source": [
    "# Função geradora receberá, além do ambiente e do nome do cliente, os recursos.\n",
    "\n",
    "def salao (environment, nome, colaborador_A, colaborador_B, colaborador_C):\n",
    "    \n",
    "    # imprimimos na tela quando um cliente chega no estabelecimento       \n",
    "    print (f\"{nome} chega no estabelecimento em {env.now}\")\n",
    "    \n",
    "    # Serviço A\n",
    "    # Ao chegar, o cliente deve esperar o recurso do primeiro serviso\n",
    "\n",
    "    with colaborador_A.request() as req_A:\n",
    "        yield req_A # o cliente deve esperar um recurso do tipo colaborador_A\n",
    "        #print (f\"{nome} inicia A em {env.now}\") # imprima na tela o tempo de início\n",
    "        yield environment.timeout(3) # O serviço demora exatamente 3 minutos.\n",
    "        #print (f\"{nome} finaliza A em {env.now}\")\n",
    "\n",
    "    \n",
    "    # Serviço B\n",
    "    with colaborador_B.request() as req_B:\n",
    "        yield req_B\n",
    "        #print (f\"{nome} inicia B em {env.now}\")\n",
    "        yield environment.timeout(8) # O serviço B demora exatamente 8 minutos.\n",
    "        #print (f\"{nome} finaliza B em {env.now}\")\n",
    "    \n",
    "    # Serviço C\n",
    "    with colaborador_C.request() as req_C:\n",
    "        yield req_C\n",
    "        #print (f\"{nome} inicia C em {env.now}\")\n",
    "        yield environment.timeout(random.expovariate(1/5)) # O tempo de serviço em C segue uma exponencial de média 5.\n",
    "    \n",
    "    print (f\"{nome} sai do estabelecimento em {environment.now}\")\n",
    "\n",
    "    "
   ]
  },
  {
   "cell_type": "markdown",
   "metadata": {},
   "source": [
    "### Definindo o ambiente"
   ]
  },
  {
   "cell_type": "code",
   "execution_count": 11,
   "metadata": {},
   "outputs": [],
   "source": [
    "env2 = simpy.Environment()"
   ]
  },
  {
   "cell_type": "markdown",
   "metadata": {},
   "source": [
    "### Instanciando os tipos de recurso em nosso ambiente e suas capacidades"
   ]
  },
  {
   "cell_type": "code",
   "execution_count": 12,
   "metadata": {},
   "outputs": [],
   "source": [
    "colab_A = simpy.Resource(env2, capacity=1)\n",
    "colab_B = simpy.Resource(env2, capacity=1)\n",
    "colab_C = simpy.Resource(env2, capacity=1)"
   ]
  },
  {
   "cell_type": "markdown",
   "metadata": {},
   "source": [
    "## Processo de Chegadas\n"
   ]
  },
  {
   "cell_type": "markdown",
   "metadata": {},
   "source": [
    "Vamos considerar que o nosso processo de chegadas é um processo de Poisson, com $\\lambda = 0,2$ clientes/minuto;\n",
    "\n",
    "Assim, o tempo entre chegadas segue uma distribuição exponencial de média $1/\\lambda = 5$ minutos.\n",
    "\n",
    "Vamos criar nosso processo de chegadas:"
   ]
  },
  {
   "cell_type": "code",
   "execution_count": 13,
   "metadata": {},
   "outputs": [
    {
     "data": {
      "text/plain": [
       "<Process(chegadas) object at 0x210e951c940>"
      ]
     },
     "execution_count": 13,
     "metadata": {},
     "output_type": "execute_result"
    }
   ],
   "source": [
    "def chegadas (environment):\n",
    "    i=1 # número que será usado na contagem e nomeação dos clientes\n",
    "    \n",
    "    # Enquanto a simulação ocorrer\n",
    "    while True:\n",
    "        # gere um número de nossa distribuição \n",
    "        yield environment.timeout(random.expovariate(1/5))\n",
    "\n",
    "        # Um cliente entra no processo! Seu nome será \"Cliente i\"\n",
    "        environment.process(salao (environment, 'Cliente %d' % i, colab_A, colab_B, colab_C))\n",
    "        \n",
    "        i+=1 # i = i+1\n",
    "\n",
    "\n",
    "# Instanciando o processo com a função de chegadas.\n",
    "env2.process(chegadas(env2))\n"
   ]
  },
  {
   "cell_type": "markdown",
   "metadata": {},
   "source": [
    "Pronto, agora basta rodar nossa simulação."
   ]
  },
  {
   "cell_type": "code",
   "execution_count": 14,
   "metadata": {},
   "outputs": [
    {
     "name": "stdout",
     "output_type": "stream",
     "text": [
      "Cliente 1 chega no estabelecimento em 480\n",
      "Cliente 2 chega no estabelecimento em 480\n",
      "Cliente 3 chega no estabelecimento em 480\n",
      "Cliente 4 chega no estabelecimento em 480\n",
      "Cliente 5 chega no estabelecimento em 480\n",
      "Cliente 6 chega no estabelecimento em 480\n",
      "Cliente 7 chega no estabelecimento em 480\n",
      "Cliente 8 chega no estabelecimento em 480\n",
      "Cliente 9 chega no estabelecimento em 480\n",
      "Cliente 10 chega no estabelecimento em 480\n",
      "Cliente 1 sai do estabelecimento em 31.715214464342633\n",
      "Cliente 11 chega no estabelecimento em 480\n",
      "Cliente 12 chega no estabelecimento em 480\n",
      "Cliente 2 sai do estabelecimento em 40.23348668860151\n",
      "Cliente 13 chega no estabelecimento em 480\n",
      "Cliente 14 chega no estabelecimento em 480\n",
      "Cliente 15 chega no estabelecimento em 480\n",
      "Cliente 16 chega no estabelecimento em 480\n",
      "Cliente 3 sai do estabelecimento em 49.89293214123484\n",
      "Cliente 4 sai do estabelecimento em 50.492008460561074\n",
      "Cliente 17 chega no estabelecimento em 480\n",
      "Cliente 5 sai do estabelecimento em 54.93152298837021\n",
      "Cliente 18 chega no estabelecimento em 480\n",
      "Cliente 19 chega no estabelecimento em 480\n",
      "Cliente 6 sai do estabelecimento em 70.66053207920952\n",
      "Cliente 7 sai do estabelecimento em 73.49955384106235\n",
      "Cliente 20 chega no estabelecimento em 480\n",
      "Cliente 8 sai do estabelecimento em 79.83192132505813\n",
      "Cliente 21 chega no estabelecimento em 480\n",
      "Cliente 22 chega no estabelecimento em 480\n",
      "Cliente 23 chega no estabelecimento em 480\n",
      "Cliente 24 chega no estabelecimento em 480\n",
      "Cliente 9 sai do estabelecimento em 87.40641718090325\n",
      "Cliente 25 chega no estabelecimento em 480\n",
      "Cliente 26 chega no estabelecimento em 480\n",
      "Cliente 27 chega no estabelecimento em 480\n",
      "Cliente 10 sai do estabelecimento em 103.02694418221081\n",
      "Cliente 28 chega no estabelecimento em 480\n",
      "Cliente 29 chega no estabelecimento em 480\n",
      "Cliente 11 sai do estabelecimento em 106.29785928208915\n",
      "Cliente 30 chega no estabelecimento em 480\n",
      "Cliente 31 chega no estabelecimento em 480\n",
      "Cliente 12 sai do estabelecimento em 112.43831191128947\n",
      "Cliente 32 chega no estabelecimento em 480\n",
      "Cliente 33 chega no estabelecimento em 480\n",
      "Cliente 34 chega no estabelecimento em 480\n",
      "Cliente 35 chega no estabelecimento em 480\n",
      "Cliente 13 sai do estabelecimento em 122.79507609499342\n",
      "Cliente 36 chega no estabelecimento em 480\n",
      "Cliente 14 sai do estabelecimento em 132.0179207520203\n",
      "Cliente 37 chega no estabelecimento em 480\n",
      "Cliente 38 chega no estabelecimento em 480\n",
      "Cliente 15 sai do estabelecimento em 138.14946991264344\n",
      "Cliente 16 sai do estabelecimento em 146.0945300800092\n",
      "Cliente 39 chega no estabelecimento em 480\n",
      "Cliente 17 sai do estabelecimento em 150.7476935705298\n",
      "Cliente 40 chega no estabelecimento em 480\n",
      "Cliente 41 chega no estabelecimento em 480\n",
      "Cliente 42 chega no estabelecimento em 480\n",
      "Cliente 43 chega no estabelecimento em 480\n",
      "Cliente 18 sai do estabelecimento em 161.15093179879239\n",
      "Cliente 44 chega no estabelecimento em 480\n",
      "Cliente 45 chega no estabelecimento em 480\n",
      "Cliente 46 chega no estabelecimento em 480\n",
      "Cliente 19 sai do estabelecimento em 169.78924232295174\n",
      "Cliente 47 chega no estabelecimento em 480\n",
      "Cliente 20 sai do estabelecimento em 177.1057433614457\n",
      "Cliente 21 sai do estabelecimento em 182.60332437077352\n",
      "Cliente 48 chega no estabelecimento em 480\n",
      "Cliente 49 chega no estabelecimento em 480\n",
      "Cliente 22 sai do estabelecimento em 190.68302428973385\n",
      "Cliente 50 chega no estabelecimento em 480\n",
      "Cliente 51 chega no estabelecimento em 480\n",
      "Cliente 52 chega no estabelecimento em 480\n",
      "Cliente 53 chega no estabelecimento em 480\n",
      "Cliente 23 sai do estabelecimento em 201.7420207317717\n",
      "Cliente 24 sai do estabelecimento em 209.49189798138747\n",
      "Cliente 25 sai do estabelecimento em 217.29157711190027\n",
      "Cliente 54 chega no estabelecimento em 480\n",
      "Cliente 26 sai do estabelecimento em 225.38631873612277\n",
      "Cliente 55 chega no estabelecimento em 480\n",
      "Cliente 56 chega no estabelecimento em 480\n",
      "Cliente 57 chega no estabelecimento em 480\n",
      "Cliente 58 chega no estabelecimento em 480\n",
      "Cliente 27 sai do estabelecimento em 241.83458867373483\n",
      "Cliente 59 chega no estabelecimento em 480\n",
      "Cliente 60 chega no estabelecimento em 480\n",
      "Cliente 61 chega no estabelecimento em 480\n",
      "Cliente 62 chega no estabelecimento em 480\n",
      "Cliente 28 sai do estabelecimento em 253.84885927546102\n",
      "Cliente 63 chega no estabelecimento em 480\n",
      "Cliente 29 sai do estabelecimento em 258.9933607724676\n",
      "Cliente 64 chega no estabelecimento em 480\n",
      "Cliente 65 chega no estabelecimento em 480\n",
      "Cliente 30 sai do estabelecimento em 267.8362088110285\n",
      "Cliente 66 chega no estabelecimento em 480\n",
      "Cliente 67 chega no estabelecimento em 480\n",
      "Cliente 31 sai do estabelecimento em 284.23409697362086\n",
      "Cliente 68 chega no estabelecimento em 480\n",
      "Cliente 32 sai do estabelecimento em 290.56763736526966\n",
      "Cliente 33 sai do estabelecimento em 290.80433185662383\n",
      "Cliente 69 chega no estabelecimento em 480\n",
      "Cliente 34 sai do estabelecimento em 303.0192401185397\n",
      "Cliente 70 chega no estabelecimento em 480\n",
      "Cliente 35 sai do estabelecimento em 319.420194833916\n",
      "Cliente 36 sai do estabelecimento em 321.10095638843865\n",
      "Cliente 71 chega no estabelecimento em 480\n",
      "Cliente 72 chega no estabelecimento em 480\n",
      "Cliente 37 sai do estabelecimento em 326.6442894602786\n",
      "Cliente 73 chega no estabelecimento em 480\n",
      "Cliente 74 chega no estabelecimento em 480\n",
      "Cliente 75 chega no estabelecimento em 480\n",
      "Cliente 76 chega no estabelecimento em 480\n",
      "Cliente 77 chega no estabelecimento em 480\n",
      "Cliente 78 chega no estabelecimento em 480\n",
      "Cliente 79 chega no estabelecimento em 480\n",
      "Cliente 38 sai do estabelecimento em 339.24673118472043\n",
      "Cliente 39 sai do estabelecimento em 350.1722508100587\n",
      "Cliente 40 sai do estabelecimento em 353.2881178394785\n",
      "Cliente 41 sai do estabelecimento em 360.0951988058159\n",
      "Cliente 42 sai do estabelecimento em 366.03629968378056\n",
      "Cliente 43 sai do estabelecimento em 369.73178001255906\n",
      "Cliente 44 sai do estabelecimento em 372.48556518192845\n",
      "Cliente 80 chega no estabelecimento em 480\n",
      "Cliente 45 sai do estabelecimento em 379.8778532667203\n",
      "Cliente 81 chega no estabelecimento em 480\n",
      "Cliente 82 chega no estabelecimento em 480\n",
      "Cliente 46 sai do estabelecimento em 384.6888849868451\n",
      "Cliente 83 chega no estabelecimento em 480\n",
      "Cliente 47 sai do estabelecimento em 391.5995826213003\n",
      "Cliente 84 chega no estabelecimento em 480\n",
      "Cliente 85 chega no estabelecimento em 480\n",
      "Cliente 86 chega no estabelecimento em 480\n",
      "Cliente 48 sai do estabelecimento em 408.6763523784662\n",
      "Cliente 49 sai do estabelecimento em 409.0401342796801\n",
      "Cliente 87 chega no estabelecimento em 480\n",
      "Cliente 50 sai do estabelecimento em 414.88972564518036\n",
      "Cliente 88 chega no estabelecimento em 480\n",
      "Cliente 89 chega no estabelecimento em 480\n",
      "Cliente 90 chega no estabelecimento em 480\n",
      "Cliente 91 chega no estabelecimento em 480\n",
      "Cliente 51 sai do estabelecimento em 427.37917238099567\n",
      "Cliente 92 chega no estabelecimento em 480\n",
      "Cliente 93 chega no estabelecimento em 480\n",
      "Cliente 52 sai do estabelecimento em 433.9547740510548\n",
      "Cliente 94 chega no estabelecimento em 480\n",
      "Cliente 95 chega no estabelecimento em 480\n",
      "Cliente 53 sai do estabelecimento em 439.9536003812341\n",
      "Cliente 96 chega no estabelecimento em 480\n",
      "Cliente 97 chega no estabelecimento em 480\n",
      "Cliente 54 sai do estabelecimento em 449.71820294588264\n",
      "Cliente 98 chega no estabelecimento em 480\n",
      "Cliente 99 chega no estabelecimento em 480\n",
      "Cliente 100 chega no estabelecimento em 480\n",
      "Cliente 55 sai do estabelecimento em 457.692321648826\n",
      "Cliente 101 chega no estabelecimento em 480\n",
      "Cliente 56 sai do estabelecimento em 468.78565070987474\n",
      "Cliente 102 chega no estabelecimento em 480\n",
      "Cliente 57 sai do estabelecimento em 473.0216699274375\n",
      "Cliente 103 chega no estabelecimento em 480\n"
     ]
    }
   ],
   "source": [
    "env2.run(until=480)"
   ]
  },
  {
   "cell_type": "markdown",
   "metadata": {},
   "source": [
    "Ótimo, já modelamos 2 processos!\n",
    " \n",
    "Porém, não estamos guardando informações para calcular estatísticas que nos interessem."
   ]
  },
  {
   "cell_type": "markdown",
   "metadata": {},
   "source": [
    "---\n"
   ]
  }
 ],
 "metadata": {
  "kernelspec": {
   "display_name": "Python 3 (ipykernel)",
   "language": "python",
   "name": "python3"
  },
  "language_info": {
   "codemirror_mode": {
    "name": "ipython",
    "version": 3
   },
   "file_extension": ".py",
   "mimetype": "text/x-python",
   "name": "python",
   "nbconvert_exporter": "python",
   "pygments_lexer": "ipython3",
   "version": "3.9.7"
  },
  "vscode": {
   "interpreter": {
    "hash": "e4cce46d6be9934fbd27f9ca0432556941ea5bdf741d4f4d64c6cd7f8dfa8fba"
   }
  }
 },
 "nbformat": 4,
 "nbformat_minor": 4
}
