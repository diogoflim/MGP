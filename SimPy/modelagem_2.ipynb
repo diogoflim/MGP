{
 "cells": [
  {
   "cell_type": "markdown",
   "id": "3015c33f-e88a-4801-8b07-b6ef55f48946",
   "metadata": {},
   "source": [
    "[![Open In Colab](https://colab.research.google.com/assets/colab-badge.svg)](https://colab.research.google.com/github/diogoflim/MGP/blob/main/modelagem_2.ipynb)"
   ]
  },
  {
   "cell_type": "markdown",
   "id": "56005979-1404-4be2-b414-b1da2a4aea80",
   "metadata": {},
   "source": [
    "# Modelagem e Gestão de Processos\n",
    "\n",
    "\n",
    "**Prof. Diogo Ferreira de Lima Silva (TEP-UFF)**\n",
    "\n",
    "Tema da aula - Modelagem de Processos com a biblioteca SimPy"
   ]
  },
  {
   "cell_type": "code",
   "execution_count": null,
   "id": "ddbfed06-dc2a-45aa-97eb-2f3e3368e0c4",
   "metadata": {},
   "outputs": [],
   "source": [
    "#!pip install simpy\n",
    "import simpy"
   ]
  },
  {
   "cell_type": "code",
   "execution_count": null,
   "id": "384af952-a848-4c98-880e-857c2ca68634",
   "metadata": {},
   "outputs": [],
   "source": [
    "import random\n",
    "random.seed(10)"
   ]
  },
  {
   "cell_type": "markdown",
   "id": "29b7be27-efe7-482c-ad9b-3865aece1869",
   "metadata": {},
   "source": [
    "# Monitorando o Processo"
   ]
  },
  {
   "cell_type": "markdown",
   "id": "77c73254-31b2-4efd-b7b9-f0049239ded1",
   "metadata": {},
   "source": [
    "Ao analisar um processo, um gestor pode estar interessado em algumas métricas, tais como:\n",
    "- Tempo de ciclo médio;\n",
    "- Tempo de espera médio em fila;\n",
    "- Uso dos recursos\n",
    "- Trabalho em processo médio;\n",
    "\n",
    "Para fazer tais cálculos, precisamos colher algumas informações durante a simulação."
   ]
  },
  {
   "cell_type": "markdown",
   "id": "49708b79-0dfe-44e0-afdc-be2b01cde7a7",
   "metadata": {},
   "source": [
    "### Vamos incrementar nosso código para guardar o tempo gasto na atividade C"
   ]
  },
  {
   "cell_type": "code",
   "execution_count": null,
   "id": "0ec73fa0-2afb-43d1-afc8-e26fd0adaf1d",
   "metadata": {},
   "outputs": [],
   "source": [
    "#criando uma lista vazia\n",
    "tempo_gasto_C = []\n",
    "\n",
    "tempo_esperando_C =[]"
   ]
  },
  {
   "cell_type": "code",
   "execution_count": null,
   "id": "f6ebbff0-104d-466a-ba13-7c719ee2da74",
   "metadata": {},
   "outputs": [],
   "source": [
    "def salao (environment, nome, colaborador_A, colaborador_B, colaborador_C):\n",
    "    #print (f\"{nome} chega no estabelecimento em {env.now}\")\n",
    "    # Serviço A\n",
    "    with colaborador_A.request() as req_A:\n",
    "        yield req_A # o cliente deve esperar um recurso do tipo colaborador_A\n",
    "        #print (f\"{nome} inicia A em {env.now}\") # imprima na tela o tempo de início\n",
    "        yield environment.timeout(3) # O serviço demora exatamente 3 minutos.\n",
    "        #print (f\"{nome} finaliza A em {env.now}\")\n",
    "    \n",
    "    # Serviço B\n",
    "    with colaborador_B.request() as req_B:\n",
    "        yield req_B\n",
    "        #print (f\"{nome} inicia B em {env.now}\")\n",
    "        yield environment.timeout(8) # O serviço B demora exatamente 8 minutos.\n",
    "        #print (f\"{nome} finaliza B em {env.now}\")\n",
    "\n",
    "        acaba_B = environment.now\n",
    "\n",
    "    # Serviço C\n",
    "    with colaborador_C.request() as req_C:\n",
    "        yield req_C\n",
    "        #print (f\"{nome} inicia C em {env.now}\")\n",
    "        \n",
    "        p_inicio = environment.now\n",
    "        yield environment.timeout(random.expovariate(1/5)) # O tempo de serviço em C segue uma exponencial de média 5.\n",
    "        p_fim = environment.now\n",
    "\n",
    "        tempo_gasto_C.append(p_fim - p_inicio)\n",
    "        tempo_esperando_C.append(p_inicio - acaba_B)\n",
    "        \n",
    "    #print (f\"{nome} sai do estabelecimento em {env.now}\")\n",
    "    print (f\"{nome} esperou {p_inicio - acaba_B} na fila da atividade C\")\n",
    "    print (f\"{nome} gastou {p_fim - p_inicio} na atividade C\")"
   ]
  },
  {
   "cell_type": "code",
   "execution_count": null,
   "id": "01e50c1a-ccbe-4ab8-9684-e62fe342aec9",
   "metadata": {},
   "outputs": [],
   "source": [
    "def chegadas (env):\n",
    "    i=1 # número que será usado na contagem e nomeação dos clientes\n",
    "    \n",
    "    # Enquanto a simulação ocorrer\n",
    "    while True:\n",
    "        # gere um número de nossa distribuição \n",
    "        yield env.timeout(random.expovariate(1/5))\n",
    "\n",
    "        # Um cliente entra no processo! Seu nome será \"Cliente i\"\n",
    "        env.process(salao (env, 'Cliente %d' % i, colab_A, colab_B, colab_C))\n",
    "        \n",
    "        i+=1 # i = i+1\n"
   ]
  },
  {
   "cell_type": "code",
   "execution_count": null,
   "id": "ebeffbf5-58ef-4e36-a106-4cef2c41a9fd",
   "metadata": {},
   "outputs": [],
   "source": [
    "env = simpy.Environment()\n",
    "colab_A = simpy.Resource(env, capacity=1)\n",
    "colab_B = simpy.Resource(env, capacity=1)\n",
    "colab_C = simpy.Resource(env, capacity=1)\n",
    "env.process(chegadas(env))\n",
    "env.run(until = 6000)"
   ]
  },
  {
   "cell_type": "code",
   "execution_count": null,
   "id": "92cfb5fc-6832-467f-9163-3732d18eec6d",
   "metadata": {},
   "outputs": [],
   "source": [
    "import numpy as np\n",
    "\n",
    "print(f\"Em média, um cliente o serviço C dura {np.mean(tempo_gasto_C)} minutos\")\n",
    "print(f\"Em média, um cliente espera {np.mean(tempo_esperando_C)} minutos pelo serviço C\")\n"
   ]
  }
 ],
 "metadata": {
  "kernelspec": {
   "display_name": "Python 3.9.7 ('base')",
   "language": "python",
   "name": "python3"
  },
  "language_info": {
   "codemirror_mode": {
    "name": "ipython",
    "version": 3
   },
   "file_extension": ".py",
   "mimetype": "text/x-python",
   "name": "python",
   "nbconvert_exporter": "python",
   "pygments_lexer": "ipython3",
   "version": "3.9.7"
  },
  "vscode": {
   "interpreter": {
    "hash": "e4cce46d6be9934fbd27f9ca0432556941ea5bdf741d4f4d64c6cd7f8dfa8fba"
   }
  }
 },
 "nbformat": 4,
 "nbformat_minor": 5
}
