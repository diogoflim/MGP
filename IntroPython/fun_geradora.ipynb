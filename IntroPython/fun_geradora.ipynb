{
 "cells": [
  {
   "attachments": {},
   "cell_type": "markdown",
   "metadata": {},
   "source": [
    "[![Open In Colab](https://colab.research.google.com/assets/colab-badge.svg)](https://colab.research.google.com/github/diogoflim/MGP/blob/main/IntroPython/fun_geradora.ipynb)"
   ]
  },
  {
   "cell_type": "code",
   "execution_count": null,
   "metadata": {},
   "outputs": [],
   "source": [
    "def conta_convencional ():\n",
    "    conta = 0\n",
    "    while True:\n",
    "        return conta\n",
    "        conta +=1"
   ]
  },
  {
   "cell_type": "code",
   "execution_count": null,
   "metadata": {},
   "outputs": [],
   "source": [
    "minha_conta = conta_convencional()\n",
    "\n",
    "print(minha_conta)\n",
    "print(minha_conta)\n",
    "print(minha_conta)\n",
    "print(minha_conta)"
   ]
  },
  {
   "cell_type": "code",
   "execution_count": null,
   "metadata": {},
   "outputs": [],
   "source": [
    "def conta_geradora ():\n",
    "    conta = 0\n",
    "    while True:\n",
    "        yield conta\n",
    "        conta +=1\n"
   ]
  },
  {
   "cell_type": "code",
   "execution_count": null,
   "metadata": {},
   "outputs": [],
   "source": [
    "minha_conta = conta_geradora()\n",
    "\n",
    "print(minha_conta)\n",
    "print(next(minha_conta))\n",
    "print(next(minha_conta))\n",
    "print(next(minha_conta))\n",
    "print(next(minha_conta))"
   ]
  },
  {
   "attachments": {},
   "cell_type": "markdown",
   "metadata": {},
   "source": [
    "## Criando um Processo Simples\n",
    "\n",
    "Vamos criar um processo com quatro atividades: A -> B -> C -> D.\n",
    "\n",
    "- Apenas 40% dos trabalhos passam por B. Os outro 60% saem de A direto para C.\n",
    "- Os tempos de processamento são, respectivamente, 10 25, 8, 5.\n",
    "- As atividades A, B e C usam o recurso R1.\n",
    "- A atividade D usa o recurso R2.\n",
    "\n",
    "\n"
   ]
  },
  {
   "cell_type": "code",
   "execution_count": null,
   "metadata": {},
   "outputs": [],
   "source": [
    "!pip install simpy"
   ]
  },
  {
   "cell_type": "code",
   "execution_count": 16,
   "metadata": {},
   "outputs": [],
   "source": [
    "import simpy\n",
    "import random\n",
    "import numpy as np"
   ]
  },
  {
   "cell_type": "code",
   "execution_count": 24,
   "metadata": {},
   "outputs": [],
   "source": [
    "random.seed(10)"
   ]
  },
  {
   "cell_type": "code",
   "execution_count": 25,
   "metadata": {},
   "outputs": [],
   "source": [
    "def atividade_A (environment, trabalho_id):\n",
    "    with R1.request() as req:\n",
    "        yield req\n",
    "        yield environment.timeout(10)\n",
    "        \n",
    "def atividade_B (environment, trabalho_id):\n",
    "    with R1.request() as req:\n",
    "        yield req\n",
    "        yield environment.timeout(25)  \n",
    "        \n",
    "def atividade_C (environment, trabalho_id):\n",
    "    with R1.request() as req:\n",
    "        yield req\n",
    "        yield environment.timeout(8)  \n",
    "        \n",
    "def atividade_D (environment, trabalho_id):\n",
    "    with R2.request() as req:\n",
    "        yield req\n",
    "        yield environment.timeout(5)  "
   ]
  },
  {
   "cell_type": "code",
   "execution_count": 26,
   "metadata": {},
   "outputs": [],
   "source": [
    "def primeiro_processo (ambiente, trabalho_id, R1, R2):\n",
    "        #print(f'tempo: {environment.now} -- {trabalho_id} entrou no processo')\n",
    "        entrou_no_processo = ambiente.now\n",
    "        \n",
    "        # Atividade A\n",
    "        yield (ambiente.process(atividade_A(ambiente, trabalho_id)))\n",
    "   \n",
    "        # Atividade B só acontece em 30% dos trabalhos\n",
    "        regra_B = random.uniform(0,1) \n",
    "        if regra_B < 0.4:\n",
    "                yield (ambiente.process(atividade_B(ambiente, trabalho_id)))\n",
    "    \n",
    "        # Atividade C\n",
    "        yield(ambiente.process(atividade_C(ambiente, trabalho_id)))\n",
    "\n",
    "        # Atividade D\n",
    "        yield(ambiente.process(atividade_D(ambiente, trabalho_id)))\n",
    "\n",
    "        saiu_do_processo = ambiente.now\n",
    "        tempo_de_ciclo.append (saiu_do_processo - entrou_no_processo) \n",
    "        "
   ]
  },
  {
   "cell_type": "code",
   "execution_count": 27,
   "metadata": {},
   "outputs": [],
   "source": [
    "def chegadas (ambiente):\n",
    "    id = 1 #guarda o id do cliente \n",
    "    # Enquanto houver simulação:\n",
    "    while True:\n",
    "        # Passa um tempo até a próxima chegada\n",
    "        yield ambiente.timeout(50)\n",
    "        \n",
    "        # Um cliente chega no processo\n",
    "        ambiente.process(primeiro_processo (ambiente, 'Trabalho %d' % id, R1, R2))\n",
    "        \n",
    "        # O próximo cliente terá id = id + 1\n",
    "        id += 1"
   ]
  },
  {
   "cell_type": "code",
   "execution_count": 40,
   "metadata": {},
   "outputs": [],
   "source": [
    "tempo_de_ciclo = []\n",
    "env = simpy.Environment()\n",
    "R1 = simpy.Resource(env, capacity=1)\n",
    "R2 = simpy.Resource(env, capacity=1)\n",
    "env.process(chegadas(env))\n",
    "env.run(until = 100000)\n"
   ]
  },
  {
   "cell_type": "code",
   "execution_count": 41,
   "metadata": {},
   "outputs": [
    {
     "data": {
      "text/plain": [
       "33.678391959798994"
      ]
     },
     "execution_count": 41,
     "metadata": {},
     "output_type": "execute_result"
    }
   ],
   "source": [
    "np.mean(tempo_de_ciclo)"
   ]
  },
  {
   "cell_type": "code",
   "execution_count": 42,
   "metadata": {},
   "outputs": [
    {
     "data": {
      "text/plain": [
       "[48,\n",
       " 48,\n",
       " 48,\n",
       " 23,\n",
       " 23,\n",
       " 23,\n",
       " 23,\n",
       " 48,\n",
       " 48,\n",
       " 23,\n",
       " 48,\n",
       " 23,\n",
       " 48,\n",
       " 23,\n",
       " 48,\n",
       " 23,\n",
       " 48,\n",
       " 23,\n",
       " 23,\n",
       " 48,\n",
       " 23,\n",
       " 23,\n",
       " 23,\n",
       " 23,\n",
       " 23,\n",
       " 23,\n",
       " 48,\n",
       " 23,\n",
       " 23,\n",
       " 23,\n",
       " 48,\n",
       " 23,\n",
       " 23,\n",
       " 48,\n",
       " 48,\n",
       " 23,\n",
       " 48,\n",
       " 48,\n",
       " 23,\n",
       " 23,\n",
       " 48,\n",
       " 48,\n",
       " 23,\n",
       " 48,\n",
       " 23,\n",
       " 48,\n",
       " 23,\n",
       " 23,\n",
       " 23,\n",
       " 48,\n",
       " 23,\n",
       " 23,\n",
       " 23,\n",
       " 23,\n",
       " 23,\n",
       " 48,\n",
       " 23,\n",
       " 48,\n",
       " 23,\n",
       " 23,\n",
       " 23,\n",
       " 23,\n",
       " 23,\n",
       " 23,\n",
       " 23,\n",
       " 48,\n",
       " 48,\n",
       " 23,\n",
       " 23,\n",
       " 23,\n",
       " 48,\n",
       " 48,\n",
       " 23,\n",
       " 48,\n",
       " 48,\n",
       " 48,\n",
       " 23,\n",
       " 48,\n",
       " 48,\n",
       " 48,\n",
       " 23,\n",
       " 48,\n",
       " 23,\n",
       " 23,\n",
       " 23,\n",
       " 23,\n",
       " 48,\n",
       " 48,\n",
       " 23,\n",
       " 48,\n",
       " 23,\n",
       " 23,\n",
       " 23,\n",
       " 48,\n",
       " 23,\n",
       " 48,\n",
       " 23,\n",
       " 23,\n",
       " 48,\n",
       " 48,\n",
       " 48,\n",
       " 23,\n",
       " 23,\n",
       " 23,\n",
       " 48,\n",
       " 48,\n",
       " 23,\n",
       " 48,\n",
       " 23,\n",
       " 23,\n",
       " 23,\n",
       " 23,\n",
       " 23,\n",
       " 48,\n",
       " 48,\n",
       " 23,\n",
       " 23,\n",
       " 48,\n",
       " 23,\n",
       " 23,\n",
       " 23,\n",
       " 23,\n",
       " 23,\n",
       " 23,\n",
       " 48,\n",
       " 48,\n",
       " 23,\n",
       " 48,\n",
       " 48,\n",
       " 48,\n",
       " 48,\n",
       " 48,\n",
       " 48,\n",
       " 23,\n",
       " 23,\n",
       " 23,\n",
       " 23,\n",
       " 48,\n",
       " 48,\n",
       " 23,\n",
       " 23,\n",
       " 23,\n",
       " 23,\n",
       " 23,\n",
       " 23,\n",
       " 48,\n",
       " 23,\n",
       " 23,\n",
       " 23,\n",
       " 23,\n",
       " 48,\n",
       " 48,\n",
       " 48,\n",
       " 23,\n",
       " 23,\n",
       " 23,\n",
       " 48,\n",
       " 23,\n",
       " 23,\n",
       " 23,\n",
       " 23,\n",
       " 23,\n",
       " 48,\n",
       " 23,\n",
       " 23,\n",
       " 48,\n",
       " 23,\n",
       " 23,\n",
       " 48,\n",
       " 48,\n",
       " 48,\n",
       " 48,\n",
       " 23,\n",
       " 48,\n",
       " 23,\n",
       " 48,\n",
       " 48,\n",
       " 48,\n",
       " 48,\n",
       " 23,\n",
       " 23,\n",
       " 48,\n",
       " 23,\n",
       " 48,\n",
       " 23,\n",
       " 23,\n",
       " 48,\n",
       " 48,\n",
       " 23,\n",
       " 48,\n",
       " 23,\n",
       " 23,\n",
       " 48,\n",
       " 23,\n",
       " 48,\n",
       " 48,\n",
       " 48,\n",
       " 48,\n",
       " 48]"
      ]
     },
     "execution_count": 42,
     "metadata": {},
     "output_type": "execute_result"
    }
   ],
   "source": [
    "tempo_de_ciclo"
   ]
  },
  {
   "cell_type": "code",
   "execution_count": 45,
   "metadata": {},
   "outputs": [],
   "source": [
    "TC = []\n",
    "for i in range(100):\n",
    "    tempo_de_ciclo = []\n",
    "    env = simpy.Environment()\n",
    "    R1 = simpy.Resource(env, capacity=1)\n",
    "    R2 = simpy.Resource(env, capacity=1)\n",
    "    env.process(chegadas(env))\n",
    "    env.run(until = 100000)\n",
    "    TC.append(np.mean(tempo_de_ciclo))"
   ]
  },
  {
   "cell_type": "code",
   "execution_count": 47,
   "metadata": {},
   "outputs": [
    {
     "data": {
      "text/plain": [
       "33.028894472361806"
      ]
     },
     "execution_count": 47,
     "metadata": {},
     "output_type": "execute_result"
    }
   ],
   "source": [
    "np.mean(TC)"
   ]
  }
 ],
 "metadata": {
  "kernelspec": {
   "display_name": "Python 3.9.7 ('base')",
   "language": "python",
   "name": "python3"
  },
  "language_info": {
   "codemirror_mode": {
    "name": "ipython",
    "version": 3
   },
   "file_extension": ".py",
   "mimetype": "text/x-python",
   "name": "python",
   "nbconvert_exporter": "python",
   "pygments_lexer": "ipython3",
   "version": "3.9.7"
  },
  "orig_nbformat": 4,
  "vscode": {
   "interpreter": {
    "hash": "e4cce46d6be9934fbd27f9ca0432556941ea5bdf741d4f4d64c6cd7f8dfa8fba"
   }
  }
 },
 "nbformat": 4,
 "nbformat_minor": 2
}
